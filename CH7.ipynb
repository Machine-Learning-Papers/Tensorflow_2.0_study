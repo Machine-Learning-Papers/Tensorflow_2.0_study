{
 "cells": [
  {
   "cell_type": "code",
   "execution_count": 1,
   "metadata": {
    "colab": {
     "base_uri": "https://localhost:8080/",
     "height": 287
    },
    "colab_type": "code",
    "executionInfo": {
     "elapsed": 53148,
     "status": "ok",
     "timestamp": 1582685669262,
     "user": {
      "displayName": "haggie",
      "photoUrl": "",
      "userId": "06758608283541650507"
     },
     "user_tz": -540
    },
    "id": "XLyC0SdJbx2V",
    "outputId": "37d066e7-dbc9-46f5-8567-32873fe1b369"
   },
   "outputs": [
    {
     "name": "stdout",
     "output_type": "stream",
     "text": [
      "Uninstalling tensorflow-1.15.0:\n",
      "  Would remove:\n",
      "    /usr/local/bin/estimator_ckpt_converter\n",
      "    /usr/local/bin/freeze_graph\n",
      "    /usr/local/bin/saved_model_cli\n",
      "    /usr/local/bin/tensorboard\n",
      "    /usr/local/bin/tf_upgrade_v2\n",
      "    /usr/local/bin/tflite_convert\n",
      "    /usr/local/bin/toco\n",
      "    /usr/local/bin/toco_from_protos\n",
      "    /usr/local/lib/python3.6/dist-packages/tensorflow-1.15.0.dist-info/*\n",
      "    /usr/local/lib/python3.6/dist-packages/tensorflow/*\n",
      "    /usr/local/lib/python3.6/dist-packages/tensorflow_core/*\n",
      "Proceed (y/n)? y\n",
      "  Successfully uninstalled tensorflow-1.15.0\n"
     ]
    }
   ],
   "source": [
    " !pip uninstall tensorflow"
   ]
  },
  {
   "cell_type": "code",
   "execution_count": 2,
   "metadata": {
    "colab": {
     "base_uri": "https://localhost:8080/",
     "height": 899
    },
    "colab_type": "code",
    "executionInfo": {
     "elapsed": 130683,
     "status": "ok",
     "timestamp": 1582685746809,
     "user": {
      "displayName": "haggie",
      "photoUrl": "",
      "userId": "06758608283541650507"
     },
     "user_tz": -540
    },
    "id": "zoakgxi-c3_v",
    "outputId": "5a56d11f-63ed-4894-889c-af82bf46abd3"
   },
   "outputs": [
    {
     "name": "stdout",
     "output_type": "stream",
     "text": [
      "Collecting tensorflow==2.1.0\n",
      "\u001b[?25l  Downloading https://files.pythonhosted.org/packages/85/d4/c0cd1057b331bc38b65478302114194bd8e1b9c2bbc06e300935c0e93d90/tensorflow-2.1.0-cp36-cp36m-manylinux2010_x86_64.whl (421.8MB)\n",
      "\u001b[K     |████████████████████████████████| 421.8MB 41kB/s \n",
      "\u001b[?25hRequirement already satisfied: termcolor>=1.1.0 in /usr/local/lib/python3.6/dist-packages (from tensorflow==2.1.0) (1.1.0)\n",
      "Requirement already satisfied: keras-applications>=1.0.8 in /usr/local/lib/python3.6/dist-packages (from tensorflow==2.1.0) (1.0.8)\n",
      "Requirement already satisfied: absl-py>=0.7.0 in /usr/local/lib/python3.6/dist-packages (from tensorflow==2.1.0) (0.9.0)\n",
      "Requirement already satisfied: protobuf>=3.8.0 in /usr/local/lib/python3.6/dist-packages (from tensorflow==2.1.0) (3.10.0)\n",
      "Requirement already satisfied: scipy==1.4.1; python_version >= \"3\" in /usr/local/lib/python3.6/dist-packages (from tensorflow==2.1.0) (1.4.1)\n",
      "Requirement already satisfied: six>=1.12.0 in /usr/local/lib/python3.6/dist-packages (from tensorflow==2.1.0) (1.12.0)\n",
      "Requirement already satisfied: numpy<2.0,>=1.16.0 in /usr/local/lib/python3.6/dist-packages (from tensorflow==2.1.0) (1.17.5)\n",
      "Collecting tensorboard<2.2.0,>=2.1.0\n",
      "\u001b[?25l  Downloading https://files.pythonhosted.org/packages/40/23/53ffe290341cd0855d595b0a2e7485932f473798af173bbe3a584b99bb06/tensorboard-2.1.0-py3-none-any.whl (3.8MB)\n",
      "\u001b[K     |████████████████████████████████| 3.8MB 20.9MB/s \n",
      "\u001b[?25hRequirement already satisfied: keras-preprocessing>=1.1.0 in /usr/local/lib/python3.6/dist-packages (from tensorflow==2.1.0) (1.1.0)\n",
      "Requirement already satisfied: wrapt>=1.11.1 in /usr/local/lib/python3.6/dist-packages (from tensorflow==2.1.0) (1.11.2)\n",
      "Requirement already satisfied: google-pasta>=0.1.6 in /usr/local/lib/python3.6/dist-packages (from tensorflow==2.1.0) (0.1.8)\n",
      "Requirement already satisfied: wheel>=0.26; python_version >= \"3\" in /usr/local/lib/python3.6/dist-packages (from tensorflow==2.1.0) (0.34.2)\n",
      "Requirement already satisfied: gast==0.2.2 in /usr/local/lib/python3.6/dist-packages (from tensorflow==2.1.0) (0.2.2)\n",
      "Collecting tensorflow-estimator<2.2.0,>=2.1.0rc0\n",
      "\u001b[?25l  Downloading https://files.pythonhosted.org/packages/18/90/b77c328a1304437ab1310b463e533fa7689f4bfc41549593056d812fab8e/tensorflow_estimator-2.1.0-py2.py3-none-any.whl (448kB)\n",
      "\u001b[K     |████████████████████████████████| 450kB 48.6MB/s \n",
      "\u001b[?25hRequirement already satisfied: grpcio>=1.8.6 in /usr/local/lib/python3.6/dist-packages (from tensorflow==2.1.0) (1.27.1)\n",
      "Requirement already satisfied: astor>=0.6.0 in /usr/local/lib/python3.6/dist-packages (from tensorflow==2.1.0) (0.8.1)\n",
      "Requirement already satisfied: opt-einsum>=2.3.2 in /usr/local/lib/python3.6/dist-packages (from tensorflow==2.1.0) (3.1.0)\n",
      "Requirement already satisfied: h5py in /usr/local/lib/python3.6/dist-packages (from keras-applications>=1.0.8->tensorflow==2.1.0) (2.8.0)\n",
      "Requirement already satisfied: setuptools in /usr/local/lib/python3.6/dist-packages (from protobuf>=3.8.0->tensorflow==2.1.0) (45.1.0)\n",
      "Requirement already satisfied: werkzeug>=0.11.15 in /usr/local/lib/python3.6/dist-packages (from tensorboard<2.2.0,>=2.1.0->tensorflow==2.1.0) (1.0.0)\n",
      "Requirement already satisfied: markdown>=2.6.8 in /usr/local/lib/python3.6/dist-packages (from tensorboard<2.2.0,>=2.1.0->tensorflow==2.1.0) (3.2.1)\n",
      "Requirement already satisfied: requests<3,>=2.21.0 in /usr/local/lib/python3.6/dist-packages (from tensorboard<2.2.0,>=2.1.0->tensorflow==2.1.0) (2.21.0)\n",
      "Requirement already satisfied: google-auth<2,>=1.6.3 in /usr/local/lib/python3.6/dist-packages (from tensorboard<2.2.0,>=2.1.0->tensorflow==2.1.0) (1.7.2)\n",
      "Requirement already satisfied: google-auth-oauthlib<0.5,>=0.4.1 in /usr/local/lib/python3.6/dist-packages (from tensorboard<2.2.0,>=2.1.0->tensorflow==2.1.0) (0.4.1)\n",
      "Requirement already satisfied: urllib3<1.25,>=1.21.1 in /usr/local/lib/python3.6/dist-packages (from requests<3,>=2.21.0->tensorboard<2.2.0,>=2.1.0->tensorflow==2.1.0) (1.24.3)\n",
      "Requirement already satisfied: chardet<3.1.0,>=3.0.2 in /usr/local/lib/python3.6/dist-packages (from requests<3,>=2.21.0->tensorboard<2.2.0,>=2.1.0->tensorflow==2.1.0) (3.0.4)\n",
      "Requirement already satisfied: idna<2.9,>=2.5 in /usr/local/lib/python3.6/dist-packages (from requests<3,>=2.21.0->tensorboard<2.2.0,>=2.1.0->tensorflow==2.1.0) (2.8)\n",
      "Requirement already satisfied: certifi>=2017.4.17 in /usr/local/lib/python3.6/dist-packages (from requests<3,>=2.21.0->tensorboard<2.2.0,>=2.1.0->tensorflow==2.1.0) (2019.11.28)\n",
      "Requirement already satisfied: cachetools<3.2,>=2.0.0 in /usr/local/lib/python3.6/dist-packages (from google-auth<2,>=1.6.3->tensorboard<2.2.0,>=2.1.0->tensorflow==2.1.0) (3.1.1)\n",
      "Requirement already satisfied: rsa<4.1,>=3.1.4 in /usr/local/lib/python3.6/dist-packages (from google-auth<2,>=1.6.3->tensorboard<2.2.0,>=2.1.0->tensorflow==2.1.0) (4.0)\n",
      "Requirement already satisfied: pyasn1-modules>=0.2.1 in /usr/local/lib/python3.6/dist-packages (from google-auth<2,>=1.6.3->tensorboard<2.2.0,>=2.1.0->tensorflow==2.1.0) (0.2.8)\n",
      "Requirement already satisfied: requests-oauthlib>=0.7.0 in /usr/local/lib/python3.6/dist-packages (from google-auth-oauthlib<0.5,>=0.4.1->tensorboard<2.2.0,>=2.1.0->tensorflow==2.1.0) (1.3.0)\n",
      "Requirement already satisfied: pyasn1>=0.1.3 in /usr/local/lib/python3.6/dist-packages (from rsa<4.1,>=3.1.4->google-auth<2,>=1.6.3->tensorboard<2.2.0,>=2.1.0->tensorflow==2.1.0) (0.4.8)\n",
      "Requirement already satisfied: oauthlib>=3.0.0 in /usr/local/lib/python3.6/dist-packages (from requests-oauthlib>=0.7.0->google-auth-oauthlib<0.5,>=0.4.1->tensorboard<2.2.0,>=2.1.0->tensorflow==2.1.0) (3.1.0)\n",
      "Installing collected packages: tensorboard, tensorflow-estimator, tensorflow\n",
      "  Found existing installation: tensorboard 1.15.0\n",
      "    Uninstalling tensorboard-1.15.0:\n",
      "      Successfully uninstalled tensorboard-1.15.0\n",
      "  Found existing installation: tensorflow-estimator 1.15.1\n",
      "    Uninstalling tensorflow-estimator-1.15.1:\n",
      "      Successfully uninstalled tensorflow-estimator-1.15.1\n",
      "Successfully installed tensorboard-2.1.0 tensorflow-2.1.0 tensorflow-estimator-2.1.0\n"
     ]
    }
   ],
   "source": [
    "!pip install tensorflow==2.1.0"
   ]
  },
  {
   "cell_type": "code",
   "execution_count": 0,
   "metadata": {
    "colab": {},
    "colab_type": "code",
    "id": "JdWQwxQhc5MA"
   },
   "outputs": [],
   "source": [
    "import tensorflow as tf"
   ]
  },
  {
   "cell_type": "code",
   "execution_count": 4,
   "metadata": {
    "colab": {
     "base_uri": "https://localhost:8080/",
     "height": 35
    },
    "colab_type": "code",
    "executionInfo": {
     "elapsed": 134620,
     "status": "ok",
     "timestamp": 1582685750768,
     "user": {
      "displayName": "haggie",
      "photoUrl": "",
      "userId": "06758608283541650507"
     },
     "user_tz": -540
    },
    "id": "Pd7A_papc6JS",
    "outputId": "cb8d8c11-58e0-4cd8-a7a0-0bb3b7cfbef1"
   },
   "outputs": [
    {
     "data": {
      "text/plain": [
       "'2.1.0'"
      ]
     },
     "execution_count": 4,
     "metadata": {
      "tags": []
     },
     "output_type": "execute_result"
    }
   ],
   "source": [
    "tf.__version__"
   ]
  },
  {
   "cell_type": "code",
   "execution_count": 0,
   "metadata": {
    "colab": {},
    "colab_type": "code",
    "id": "6Jiono6KevSH"
   },
   "outputs": [],
   "source": [
    "import numpy as np"
   ]
  },
  {
   "cell_type": "code",
   "execution_count": 0,
   "metadata": {
    "colab": {
     "base_uri": "https://localhost:8080/",
     "height": 539
    },
    "colab_type": "code",
    "executionInfo": {
     "elapsed": 1658,
     "status": "ok",
     "timestamp": 1582602864175,
     "user": {
      "displayName": "haggie",
      "photoUrl": "",
      "userId": "06758608283541650507"
     },
     "user_tz": -540
    },
    "id": "UlYZPpAmc7Ui",
    "outputId": "487fc52a-6c1f-4add-dc6a-1e89811e1e81"
   },
   "outputs": [
    {
     "name": "stdout",
     "output_type": "stream",
     "text": [
      "[[[0. ]\n",
      "  [0.1]\n",
      "  [0.2]\n",
      "  [0.3]]\n",
      "\n",
      " [[0.1]\n",
      "  [0.2]\n",
      "  [0.3]\n",
      "  [0.4]]\n",
      "\n",
      " [[0.2]\n",
      "  [0.3]\n",
      "  [0.4]\n",
      "  [0.5]]\n",
      "\n",
      " [[0.3]\n",
      "  [0.4]\n",
      "  [0.5]\n",
      "  [0.6]]\n",
      "\n",
      " [[0.4]\n",
      "  [0.5]\n",
      "  [0.6]\n",
      "  [0.7]]\n",
      "\n",
      " [[0.5]\n",
      "  [0.6]\n",
      "  [0.7]\n",
      "  [0.8]]] [0.4 0.5 0.6 0.7 0.8 0.9]\n"
     ]
    }
   ],
   "source": [
    "X=[]\n",
    "Y=[]\n",
    "for i in range(6):\n",
    "  lst = list(range(i,i+4))\n",
    "  x=list(map(lambda c: [c/10],lst))\n",
    "  y=(i+4)/10\n",
    "  X.append(x)\n",
    "  Y.append(y)\n",
    "X=np.array(X)\n",
    "Y=np.array(Y)\n",
    "print(X,Y)"
   ]
  },
  {
   "cell_type": "code",
   "execution_count": 0,
   "metadata": {
    "colab": {
     "base_uri": "https://localhost:8080/",
     "height": 233
    },
    "colab_type": "code",
    "executionInfo": {
     "elapsed": 1448,
     "status": "ok",
     "timestamp": 1582604958027,
     "user": {
      "displayName": "haggie",
      "photoUrl": "",
      "userId": "06758608283541650507"
     },
     "user_tz": -540
    },
    "id": "4_CYEdvmd3Gi",
    "outputId": "392ea69b-05f9-47f8-af4f-9a7331a3e527"
   },
   "outputs": [
    {
     "name": "stdout",
     "output_type": "stream",
     "text": [
      "Model: \"sequential_4\"\n",
      "_________________________________________________________________\n",
      "Layer (type)                 Output Shape              Param #   \n",
      "=================================================================\n",
      "simple_rnn_5 (SimpleRNN)     (None, 10)                120       \n",
      "_________________________________________________________________\n",
      "dense_2 (Dense)              (None, 1)                 11        \n",
      "=================================================================\n",
      "Total params: 131\n",
      "Trainable params: 131\n",
      "Non-trainable params: 0\n",
      "_________________________________________________________________\n"
     ]
    }
   ],
   "source": [
    "model = tf.keras.Sequential([\n",
    "                             tf.keras.layers.SimpleRNN(units= 10, return_sequences=False,input_shape=[4,1]),\n",
    "                             tf.keras.layers.Dense(units=1)\n",
    "])\n",
    "\n",
    "model.compile(optimizer=tf.keras.optimizers.Adam(),loss='mse')\n",
    "model.summary()"
   ]
  },
  {
   "cell_type": "code",
   "execution_count": 0,
   "metadata": {
    "colab": {
     "base_uri": "https://localhost:8080/",
     "height": 1000
    },
    "colab_type": "code",
    "executionInfo": {
     "elapsed": 4206,
     "status": "ok",
     "timestamp": 1582603404530,
     "user": {
      "displayName": "haggie",
      "photoUrl": "",
      "userId": "06758608283541650507"
     },
     "user_tz": -540
    },
    "id": "3yT9UroIgeeo",
    "outputId": "3785cf91-ee43-4908-d817-3c3b825d9391"
   },
   "outputs": [
    {
     "name": "stdout",
     "output_type": "stream",
     "text": [
      "Train on 6 samples\n",
      "Epoch 1/100\n",
      "6/6 [==============================] - 2s 339ms/sample - loss: 0.0749\n",
      "Epoch 2/100\n",
      "6/6 [==============================] - 0s 1ms/sample - loss: 0.0659\n",
      "Epoch 3/100\n",
      "6/6 [==============================] - 0s 2ms/sample - loss: 0.0573\n",
      "Epoch 4/100\n",
      "6/6 [==============================] - 0s 1ms/sample - loss: 0.0494\n",
      "Epoch 5/100\n",
      "6/6 [==============================] - 0s 1ms/sample - loss: 0.0420\n",
      "Epoch 6/100\n",
      "6/6 [==============================] - 0s 1ms/sample - loss: 0.0352\n",
      "Epoch 7/100\n",
      "6/6 [==============================] - 0s 1ms/sample - loss: 0.0291\n",
      "Epoch 8/100\n",
      "6/6 [==============================] - 0s 854us/sample - loss: 0.0236\n",
      "Epoch 9/100\n",
      "6/6 [==============================] - 0s 977us/sample - loss: 0.0187\n",
      "Epoch 10/100\n",
      "6/6 [==============================] - 0s 958us/sample - loss: 0.0144\n",
      "Epoch 11/100\n",
      "6/6 [==============================] - 0s 890us/sample - loss: 0.0107\n",
      "Epoch 12/100\n",
      "6/6 [==============================] - 0s 807us/sample - loss: 0.0076\n",
      "Epoch 13/100\n",
      "6/6 [==============================] - 0s 792us/sample - loss: 0.0052\n",
      "Epoch 14/100\n",
      "6/6 [==============================] - 0s 922us/sample - loss: 0.0033\n",
      "Epoch 15/100\n",
      "6/6 [==============================] - 0s 1ms/sample - loss: 0.0019\n",
      "Epoch 16/100\n",
      "6/6 [==============================] - 0s 1ms/sample - loss: 9.4408e-04\n",
      "Epoch 17/100\n",
      "6/6 [==============================] - 0s 1ms/sample - loss: 4.3390e-04\n",
      "Epoch 18/100\n",
      "6/6 [==============================] - 0s 1ms/sample - loss: 2.7210e-04\n",
      "Epoch 19/100\n",
      "6/6 [==============================] - 0s 964us/sample - loss: 3.8695e-04\n",
      "Epoch 20/100\n",
      "6/6 [==============================] - 0s 1ms/sample - loss: 7.0329e-04\n",
      "Epoch 21/100\n",
      "6/6 [==============================] - 0s 1ms/sample - loss: 0.0011\n",
      "Epoch 22/100\n",
      "6/6 [==============================] - 0s 1ms/sample - loss: 0.0016\n",
      "Epoch 23/100\n",
      "6/6 [==============================] - 0s 1ms/sample - loss: 0.0021\n",
      "Epoch 24/100\n",
      "6/6 [==============================] - 0s 927us/sample - loss: 0.0026\n",
      "Epoch 25/100\n",
      "6/6 [==============================] - 0s 872us/sample - loss: 0.0029\n",
      "Epoch 26/100\n",
      "6/6 [==============================] - 0s 2ms/sample - loss: 0.0031\n",
      "Epoch 27/100\n",
      "6/6 [==============================] - 0s 1ms/sample - loss: 0.0032\n",
      "Epoch 28/100\n",
      "6/6 [==============================] - 0s 2ms/sample - loss: 0.0032\n",
      "Epoch 29/100\n",
      "6/6 [==============================] - 0s 2ms/sample - loss: 0.0031\n",
      "Epoch 30/100\n",
      "6/6 [==============================] - 0s 1ms/sample - loss: 0.0028\n",
      "Epoch 31/100\n",
      "6/6 [==============================] - 0s 1ms/sample - loss: 0.0026\n",
      "Epoch 32/100\n",
      "6/6 [==============================] - 0s 2ms/sample - loss: 0.0022\n",
      "Epoch 33/100\n",
      "6/6 [==============================] - 0s 1ms/sample - loss: 0.0019\n",
      "Epoch 34/100\n",
      "6/6 [==============================] - 0s 2ms/sample - loss: 0.0015\n",
      "Epoch 35/100\n",
      "6/6 [==============================] - 0s 975us/sample - loss: 0.0012\n",
      "Epoch 36/100\n",
      "6/6 [==============================] - 0s 1ms/sample - loss: 9.3519e-04\n",
      "Epoch 37/100\n",
      "6/6 [==============================] - 0s 1ms/sample - loss: 7.0088e-04\n",
      "Epoch 38/100\n",
      "6/6 [==============================] - 0s 1ms/sample - loss: 5.1794e-04\n",
      "Epoch 39/100\n",
      "6/6 [==============================] - 0s 1ms/sample - loss: 3.8683e-04\n",
      "Epoch 40/100\n",
      "6/6 [==============================] - 0s 1ms/sample - loss: 3.0447e-04\n",
      "Epoch 41/100\n",
      "6/6 [==============================] - 0s 924us/sample - loss: 2.6508e-04\n",
      "Epoch 42/100\n",
      "6/6 [==============================] - 0s 1ms/sample - loss: 2.6098e-04\n",
      "Epoch 43/100\n",
      "6/6 [==============================] - 0s 2ms/sample - loss: 2.8348e-04\n",
      "Epoch 44/100\n",
      "6/6 [==============================] - 0s 1ms/sample - loss: 3.2363e-04\n",
      "Epoch 45/100\n",
      "6/6 [==============================] - 0s 1ms/sample - loss: 3.7294e-04\n",
      "Epoch 46/100\n",
      "6/6 [==============================] - 0s 1ms/sample - loss: 4.2386e-04\n",
      "Epoch 47/100\n",
      "6/6 [==============================] - 0s 2ms/sample - loss: 4.7021e-04\n",
      "Epoch 48/100\n",
      "6/6 [==============================] - 0s 1ms/sample - loss: 5.0738e-04\n",
      "Epoch 49/100\n",
      "6/6 [==============================] - 0s 1ms/sample - loss: 5.3237e-04\n",
      "Epoch 50/100\n",
      "6/6 [==============================] - 0s 2ms/sample - loss: 5.4381e-04\n",
      "Epoch 51/100\n",
      "6/6 [==============================] - 0s 1ms/sample - loss: 5.4173e-04\n",
      "Epoch 52/100\n",
      "6/6 [==============================] - 0s 1ms/sample - loss: 5.2735e-04\n",
      "Epoch 53/100\n",
      "6/6 [==============================] - 0s 1ms/sample - loss: 5.0275e-04\n",
      "Epoch 54/100\n",
      "6/6 [==============================] - 0s 1ms/sample - loss: 4.7064e-04\n",
      "Epoch 55/100\n",
      "6/6 [==============================] - 0s 1ms/sample - loss: 4.3396e-04\n",
      "Epoch 56/100\n",
      "6/6 [==============================] - 0s 1ms/sample - loss: 3.9564e-04\n",
      "Epoch 57/100\n",
      "6/6 [==============================] - 0s 1ms/sample - loss: 3.5837e-04\n",
      "Epoch 58/100\n",
      "6/6 [==============================] - 0s 1ms/sample - loss: 3.2438e-04\n",
      "Epoch 59/100\n",
      "6/6 [==============================] - 0s 1ms/sample - loss: 2.9535e-04\n",
      "Epoch 60/100\n",
      "6/6 [==============================] - 0s 1ms/sample - loss: 2.7232e-04\n",
      "Epoch 61/100\n",
      "6/6 [==============================] - 0s 1ms/sample - loss: 2.5570e-04\n",
      "Epoch 62/100\n",
      "6/6 [==============================] - 0s 1ms/sample - loss: 2.4532e-04\n",
      "Epoch 63/100\n",
      "6/6 [==============================] - 0s 1ms/sample - loss: 2.4054e-04\n",
      "Epoch 64/100\n",
      "6/6 [==============================] - 0s 1ms/sample - loss: 2.4037e-04\n",
      "Epoch 65/100\n",
      "6/6 [==============================] - 0s 1ms/sample - loss: 2.4357e-04\n",
      "Epoch 66/100\n",
      "6/6 [==============================] - 0s 983us/sample - loss: 2.4887e-04\n",
      "Epoch 67/100\n",
      "6/6 [==============================] - 0s 4ms/sample - loss: 2.5500e-04\n",
      "Epoch 68/100\n",
      "6/6 [==============================] - 0s 2ms/sample - loss: 2.6089e-04\n",
      "Epoch 69/100\n",
      "6/6 [==============================] - 0s 1ms/sample - loss: 2.6568e-04\n",
      "Epoch 70/100\n",
      "6/6 [==============================] - 0s 2ms/sample - loss: 2.6879e-04\n",
      "Epoch 71/100\n",
      "6/6 [==============================] - 0s 2ms/sample - loss: 2.6993e-04\n",
      "Epoch 72/100\n",
      "6/6 [==============================] - 0s 2ms/sample - loss: 2.6905e-04\n",
      "Epoch 73/100\n",
      "6/6 [==============================] - 0s 2ms/sample - loss: 2.6637e-04\n",
      "Epoch 74/100\n",
      "6/6 [==============================] - 0s 1ms/sample - loss: 2.6223e-04\n",
      "Epoch 75/100\n",
      "6/6 [==============================] - 0s 1ms/sample - loss: 2.5711e-04\n",
      "Epoch 76/100\n",
      "6/6 [==============================] - 0s 1ms/sample - loss: 2.5150e-04\n",
      "Epoch 77/100\n",
      "6/6 [==============================] - 0s 819us/sample - loss: 2.4588e-04\n",
      "Epoch 78/100\n",
      "6/6 [==============================] - 0s 1ms/sample - loss: 2.4065e-04\n",
      "Epoch 79/100\n",
      "6/6 [==============================] - 0s 1ms/sample - loss: 2.3613e-04\n",
      "Epoch 80/100\n",
      "6/6 [==============================] - 0s 1ms/sample - loss: 2.3251e-04\n",
      "Epoch 81/100\n",
      "6/6 [==============================] - 0s 1ms/sample - loss: 2.2987e-04\n",
      "Epoch 82/100\n",
      "6/6 [==============================] - 0s 1ms/sample - loss: 2.2818e-04\n",
      "Epoch 83/100\n",
      "6/6 [==============================] - 0s 998us/sample - loss: 2.2732e-04\n",
      "Epoch 84/100\n",
      "6/6 [==============================] - 0s 1ms/sample - loss: 2.2711e-04\n",
      "Epoch 85/100\n",
      "6/6 [==============================] - 0s 943us/sample - loss: 2.2736e-04\n",
      "Epoch 86/100\n",
      "6/6 [==============================] - 0s 986us/sample - loss: 2.2783e-04\n",
      "Epoch 87/100\n",
      "6/6 [==============================] - 0s 898us/sample - loss: 2.2834e-04\n",
      "Epoch 88/100\n",
      "6/6 [==============================] - 0s 1ms/sample - loss: 2.2873e-04\n",
      "Epoch 89/100\n",
      "6/6 [==============================] - 0s 1ms/sample - loss: 2.2888e-04\n",
      "Epoch 90/100\n",
      "6/6 [==============================] - 0s 1ms/sample - loss: 2.2873e-04\n",
      "Epoch 91/100\n",
      "6/6 [==============================] - 0s 863us/sample - loss: 2.2825e-04\n",
      "Epoch 92/100\n",
      "6/6 [==============================] - 0s 1ms/sample - loss: 2.2749e-04\n",
      "Epoch 93/100\n",
      "6/6 [==============================] - 0s 1ms/sample - loss: 2.2648e-04\n",
      "Epoch 94/100\n",
      "6/6 [==============================] - 0s 953us/sample - loss: 2.2531e-04\n",
      "Epoch 95/100\n",
      "6/6 [==============================] - 0s 1ms/sample - loss: 2.2407e-04\n",
      "Epoch 96/100\n",
      "6/6 [==============================] - 0s 912us/sample - loss: 2.2283e-04\n",
      "Epoch 97/100\n",
      "6/6 [==============================] - 0s 1ms/sample - loss: 2.2166e-04\n",
      "Epoch 98/100\n",
      "6/6 [==============================] - 0s 854us/sample - loss: 2.2062e-04\n",
      "Epoch 99/100\n",
      "6/6 [==============================] - 0s 1ms/sample - loss: 2.1972e-04\n",
      "Epoch 100/100\n",
      "6/6 [==============================] - 0s 1ms/sample - loss: 2.1899e-04\n"
     ]
    }
   ],
   "source": [
    "history = model.fit(X,Y,epochs=100)"
   ]
  },
  {
   "cell_type": "code",
   "execution_count": 0,
   "metadata": {
    "colab": {
     "base_uri": "https://localhost:8080/",
     "height": 35
    },
    "colab_type": "code",
    "executionInfo": {
     "elapsed": 1632,
     "status": "ok",
     "timestamp": 1582604962090,
     "user": {
      "displayName": "haggie",
      "photoUrl": "",
      "userId": "06758608283541650507"
     },
     "user_tz": -540
    },
    "id": "y9s6wSzcg3RM",
    "outputId": "d1de8808-0a7e-4fa6-a3fb-43395ed3ab37"
   },
   "outputs": [
    {
     "data": {
      "text/plain": [
       "array([[-0.45814717]], dtype=float32)"
      ]
     },
     "execution_count": 36,
     "metadata": {
      "tags": []
     },
     "output_type": "execute_result"
    }
   ],
   "source": [
    "model.predict(np.array([[[0.6],[0.7],[0.8],[0.9]]]))"
   ]
  },
  {
   "cell_type": "code",
   "execution_count": 0,
   "metadata": {
    "colab": {},
    "colab_type": "code",
    "id": "h9dr-qzLg-CS"
   },
   "outputs": [],
   "source": [
    "X=[]\n",
    "Y=[]\n",
    "for i in range(3000):\n",
    "  lst=np.random.rand(100)\n",
    "  #print(lst)\n",
    "  idx=np.random.choice(100,2,replace=False)\n",
    "  #print(idx)\n",
    "  zeros=np.zeros(100)\n",
    "  zeros[idx]=1\n",
    "  #print(zeros)\n",
    "  X.append(list(zip(zeros,lst)))\n",
    "  Y.append(np.prod(lst[idx]))"
   ]
  },
  {
   "cell_type": "code",
   "execution_count": 0,
   "metadata": {
    "colab": {
     "base_uri": "https://localhost:8080/",
     "height": 269
    },
    "colab_type": "code",
    "executionInfo": {
     "elapsed": 1624,
     "status": "ok",
     "timestamp": 1582605173443,
     "user": {
      "displayName": "haggie",
      "photoUrl": "",
      "userId": "06758608283541650507"
     },
     "user_tz": -540
    },
    "id": "mBF5SL0UlhHm",
    "outputId": "b87f3fd2-c346-41da-ade3-a719a48c200e"
   },
   "outputs": [
    {
     "name": "stdout",
     "output_type": "stream",
     "text": [
      "Model: \"sequential_6\"\n",
      "_________________________________________________________________\n",
      "Layer (type)                 Output Shape              Param #   \n",
      "=================================================================\n",
      "simple_rnn_8 (SimpleRNN)     (None, 100, 30)           990       \n",
      "_________________________________________________________________\n",
      "simple_rnn_9 (SimpleRNN)     (None, 30)                1830      \n",
      "_________________________________________________________________\n",
      "dense_4 (Dense)              (None, 1)                 31        \n",
      "=================================================================\n",
      "Total params: 2,851\n",
      "Trainable params: 2,851\n",
      "Non-trainable params: 0\n",
      "_________________________________________________________________\n"
     ]
    }
   ],
   "source": [
    "model = tf.keras.Sequential([\n",
    "                             tf.keras.layers.SimpleRNN(units=30,input_shape=[100,2],return_sequences=True),\n",
    "                             tf.keras.layers.SimpleRNN(units=30),\n",
    "                             tf.keras.layers.Dense(1)\n",
    "])\n",
    "\n",
    "model.compile(optimizer=tf.keras.optimizers.Adam(),loss='mse')\n",
    "model.summary()"
   ]
  },
  {
   "cell_type": "code",
   "execution_count": 0,
   "metadata": {
    "colab": {},
    "colab_type": "code",
    "id": "pkjlEJz7m-B_"
   },
   "outputs": [],
   "source": [
    "X=np.array(X)\n",
    "Y=np.array(Y)"
   ]
  },
  {
   "cell_type": "code",
   "execution_count": 0,
   "metadata": {
    "colab": {
     "base_uri": "https://localhost:8080/",
     "height": 35
    },
    "colab_type": "code",
    "executionInfo": {
     "elapsed": 1795,
     "status": "ok",
     "timestamp": 1582605155342,
     "user": {
      "displayName": "haggie",
      "photoUrl": "",
      "userId": "06758608283541650507"
     },
     "user_tz": -540
    },
    "id": "VyxWNgGmnc6s",
    "outputId": "a3c96278-52d7-4afa-c99c-524fce55dfbd"
   },
   "outputs": [
    {
     "data": {
      "text/plain": [
       "(100, 2)"
      ]
     },
     "execution_count": 44,
     "metadata": {
      "tags": []
     },
     "output_type": "execute_result"
    }
   ],
   "source": [
    "X[0].shape"
   ]
  },
  {
   "cell_type": "code",
   "execution_count": 0,
   "metadata": {
    "colab": {
     "base_uri": "https://localhost:8080/",
     "height": 35
    },
    "colab_type": "code",
    "executionInfo": {
     "elapsed": 1646,
     "status": "ok",
     "timestamp": 1582605167302,
     "user": {
      "displayName": "haggie",
      "photoUrl": "",
      "userId": "06758608283541650507"
     },
     "user_tz": -540
    },
    "id": "OOxaZ1_WnL9s",
    "outputId": "932c9fd8-5ce7-4b83-c91c-c5b1a0cde143"
   },
   "outputs": [
    {
     "data": {
      "text/plain": [
       "(2560, 100, 2)"
      ]
     },
     "execution_count": 45,
     "metadata": {
      "tags": []
     },
     "output_type": "execute_result"
    }
   ],
   "source": [
    "X[:2560].shape"
   ]
  },
  {
   "cell_type": "code",
   "execution_count": 0,
   "metadata": {
    "colab": {
     "base_uri": "https://localhost:8080/",
     "height": 1000
    },
    "colab_type": "code",
    "executionInfo": {
     "elapsed": 720924,
     "status": "ok",
     "timestamp": 1582605931218,
     "user": {
      "displayName": "haggie",
      "photoUrl": "",
      "userId": "06758608283541650507"
     },
     "user_tz": -540
    },
    "id": "YgyYavaqmDuy",
    "outputId": "35903bf1-1ec9-4b71-cc22-05703ce15e10"
   },
   "outputs": [
    {
     "name": "stdout",
     "output_type": "stream",
     "text": [
      "Train on 2048 samples, validate on 512 samples\n",
      "Epoch 1/100\n",
      "2048/2048 [==============================] - 8s 4ms/sample - loss: 0.0600 - val_loss: 0.0561\n",
      "Epoch 2/100\n",
      "2048/2048 [==============================] - 8s 4ms/sample - loss: 0.0499 - val_loss: 0.0569\n",
      "Epoch 3/100\n",
      "2048/2048 [==============================] - 8s 4ms/sample - loss: 0.0510 - val_loss: 0.0617\n",
      "Epoch 4/100\n",
      "2048/2048 [==============================] - 7s 4ms/sample - loss: 0.0526 - val_loss: 0.0563\n",
      "Epoch 5/100\n",
      "2048/2048 [==============================] - 7s 4ms/sample - loss: 0.0505 - val_loss: 0.0567\n",
      "Epoch 6/100\n",
      "2048/2048 [==============================] - 8s 4ms/sample - loss: 0.0490 - val_loss: 0.0570\n",
      "Epoch 7/100\n",
      "2048/2048 [==============================] - 7s 4ms/sample - loss: 0.0498 - val_loss: 0.0645\n",
      "Epoch 8/100\n",
      "2048/2048 [==============================] - 8s 4ms/sample - loss: 0.0519 - val_loss: 0.0569\n",
      "Epoch 9/100\n",
      "2048/2048 [==============================] - 8s 4ms/sample - loss: 0.0489 - val_loss: 0.0563\n",
      "Epoch 10/100\n",
      "2048/2048 [==============================] - 7s 4ms/sample - loss: 0.0497 - val_loss: 0.0628\n",
      "Epoch 11/100\n",
      "2048/2048 [==============================] - 8s 4ms/sample - loss: 0.0503 - val_loss: 0.0576\n",
      "Epoch 12/100\n",
      "2048/2048 [==============================] - 8s 4ms/sample - loss: 0.0496 - val_loss: 0.0567\n",
      "Epoch 13/100\n",
      "2048/2048 [==============================] - 8s 4ms/sample - loss: 0.0489 - val_loss: 0.0573\n",
      "Epoch 14/100\n",
      "2048/2048 [==============================] - 7s 3ms/sample - loss: 0.0488 - val_loss: 0.0566\n",
      "Epoch 15/100\n",
      "2048/2048 [==============================] - 7s 4ms/sample - loss: 0.0487 - val_loss: 0.0574\n",
      "Epoch 16/100\n",
      "2048/2048 [==============================] - 8s 4ms/sample - loss: 0.0500 - val_loss: 0.0566\n",
      "Epoch 17/100\n",
      "2048/2048 [==============================] - 7s 4ms/sample - loss: 0.0487 - val_loss: 0.0570\n",
      "Epoch 18/100\n",
      "2048/2048 [==============================] - 8s 4ms/sample - loss: 0.0489 - val_loss: 0.0573\n",
      "Epoch 19/100\n",
      "2048/2048 [==============================] - 8s 4ms/sample - loss: 0.0509 - val_loss: 0.0566\n",
      "Epoch 20/100\n",
      "2048/2048 [==============================] - 8s 4ms/sample - loss: 0.0498 - val_loss: 0.0565\n",
      "Epoch 21/100\n",
      "2048/2048 [==============================] - 7s 4ms/sample - loss: 0.0489 - val_loss: 0.0569\n",
      "Epoch 22/100\n",
      "2048/2048 [==============================] - 7s 3ms/sample - loss: 0.0501 - val_loss: 0.0614\n",
      "Epoch 23/100\n",
      "2048/2048 [==============================] - 7s 3ms/sample - loss: 0.0491 - val_loss: 0.0565\n",
      "Epoch 24/100\n",
      "2048/2048 [==============================] - 7s 3ms/sample - loss: 0.0479 - val_loss: 0.0564\n",
      "Epoch 25/100\n",
      "2048/2048 [==============================] - 7s 3ms/sample - loss: 0.0486 - val_loss: 0.0576\n",
      "Epoch 26/100\n",
      "2048/2048 [==============================] - 7s 3ms/sample - loss: 0.0487 - val_loss: 0.0575\n",
      "Epoch 27/100\n",
      "2048/2048 [==============================] - 7s 4ms/sample - loss: 0.0479 - val_loss: 0.0578\n",
      "Epoch 28/100\n",
      "2048/2048 [==============================] - 7s 4ms/sample - loss: 0.0479 - val_loss: 0.0563\n",
      "Epoch 29/100\n",
      "2048/2048 [==============================] - 7s 3ms/sample - loss: 0.0484 - val_loss: 0.0571\n",
      "Epoch 30/100\n",
      "2048/2048 [==============================] - 7s 3ms/sample - loss: 0.0486 - val_loss: 0.0565\n",
      "Epoch 31/100\n",
      "2048/2048 [==============================] - 7s 3ms/sample - loss: 0.0485 - val_loss: 0.0595\n",
      "Epoch 32/100\n",
      "2048/2048 [==============================] - 7s 3ms/sample - loss: 0.0483 - val_loss: 0.0573\n",
      "Epoch 33/100\n",
      "2048/2048 [==============================] - 7s 4ms/sample - loss: 0.0476 - val_loss: 0.0571\n",
      "Epoch 34/100\n",
      "2048/2048 [==============================] - 7s 4ms/sample - loss: 0.0471 - val_loss: 0.0584\n",
      "Epoch 35/100\n",
      "2048/2048 [==============================] - 7s 4ms/sample - loss: 0.0487 - val_loss: 0.0609\n",
      "Epoch 36/100\n",
      "2048/2048 [==============================] - 7s 3ms/sample - loss: 0.0470 - val_loss: 0.0567\n",
      "Epoch 37/100\n",
      "2048/2048 [==============================] - 7s 3ms/sample - loss: 0.0470 - val_loss: 0.0580\n",
      "Epoch 38/100\n",
      "2048/2048 [==============================] - 7s 3ms/sample - loss: 0.0466 - val_loss: 0.0576\n",
      "Epoch 39/100\n",
      "2048/2048 [==============================] - 7s 3ms/sample - loss: 0.0468 - val_loss: 0.0583\n",
      "Epoch 40/100\n",
      "2048/2048 [==============================] - 7s 3ms/sample - loss: 0.0466 - val_loss: 0.0575\n",
      "Epoch 41/100\n",
      "2048/2048 [==============================] - 7s 3ms/sample - loss: 0.0460 - val_loss: 0.0652\n",
      "Epoch 42/100\n",
      "2048/2048 [==============================] - 7s 3ms/sample - loss: 0.0461 - val_loss: 0.0605\n",
      "Epoch 43/100\n",
      "2048/2048 [==============================] - 7s 3ms/sample - loss: 0.0461 - val_loss: 0.0577\n",
      "Epoch 44/100\n",
      "2048/2048 [==============================] - 7s 3ms/sample - loss: 0.0461 - val_loss: 0.0597\n",
      "Epoch 45/100\n",
      "2048/2048 [==============================] - 7s 3ms/sample - loss: 0.0465 - val_loss: 0.0573\n",
      "Epoch 46/100\n",
      "2048/2048 [==============================] - 7s 3ms/sample - loss: 0.0460 - val_loss: 0.0577\n",
      "Epoch 47/100\n",
      "2048/2048 [==============================] - 7s 3ms/sample - loss: 0.0454 - val_loss: 0.0568\n",
      "Epoch 48/100\n",
      "2048/2048 [==============================] - 7s 3ms/sample - loss: 0.0464 - val_loss: 0.0611\n",
      "Epoch 49/100\n",
      "2048/2048 [==============================] - 7s 3ms/sample - loss: 0.0454 - val_loss: 0.0586\n",
      "Epoch 50/100\n",
      "2048/2048 [==============================] - 7s 3ms/sample - loss: 0.0454 - val_loss: 0.0647\n",
      "Epoch 51/100\n",
      "2048/2048 [==============================] - 7s 3ms/sample - loss: 0.0445 - val_loss: 0.0620\n",
      "Epoch 52/100\n",
      "2048/2048 [==============================] - 7s 3ms/sample - loss: 0.0439 - val_loss: 0.0587\n",
      "Epoch 53/100\n",
      "2048/2048 [==============================] - 7s 3ms/sample - loss: 0.0438 - val_loss: 0.0640\n",
      "Epoch 54/100\n",
      "2048/2048 [==============================] - 7s 4ms/sample - loss: 0.0439 - val_loss: 0.0603\n",
      "Epoch 55/100\n",
      "2048/2048 [==============================] - 7s 3ms/sample - loss: 0.0446 - val_loss: 0.0600\n",
      "Epoch 56/100\n",
      "2048/2048 [==============================] - 7s 3ms/sample - loss: 0.0428 - val_loss: 0.0595\n",
      "Epoch 57/100\n",
      "2048/2048 [==============================] - 7s 3ms/sample - loss: 0.0425 - val_loss: 0.0598\n",
      "Epoch 58/100\n",
      "2048/2048 [==============================] - 7s 3ms/sample - loss: 0.0436 - val_loss: 0.0706\n",
      "Epoch 59/100\n",
      "2048/2048 [==============================] - 7s 4ms/sample - loss: 0.0426 - val_loss: 0.0605\n",
      "Epoch 60/100\n",
      "2048/2048 [==============================] - 7s 3ms/sample - loss: 0.0417 - val_loss: 0.0611\n",
      "Epoch 61/100\n",
      "2048/2048 [==============================] - 7s 4ms/sample - loss: 0.0410 - val_loss: 0.0627\n",
      "Epoch 62/100\n",
      "2048/2048 [==============================] - 7s 3ms/sample - loss: 0.0411 - val_loss: 0.0598\n",
      "Epoch 63/100\n",
      "2048/2048 [==============================] - 7s 3ms/sample - loss: 0.0408 - val_loss: 0.0691\n",
      "Epoch 64/100\n",
      "2048/2048 [==============================] - 7s 3ms/sample - loss: 0.0405 - val_loss: 0.0639\n",
      "Epoch 65/100\n",
      "2048/2048 [==============================] - 7s 4ms/sample - loss: 0.0411 - val_loss: 0.0637\n",
      "Epoch 66/100\n",
      "2048/2048 [==============================] - 7s 4ms/sample - loss: 0.0394 - val_loss: 0.0621\n",
      "Epoch 67/100\n",
      "2048/2048 [==============================] - 7s 4ms/sample - loss: 0.0402 - val_loss: 0.0617\n",
      "Epoch 68/100\n",
      "2048/2048 [==============================] - 7s 3ms/sample - loss: 0.0398 - val_loss: 0.0618\n",
      "Epoch 69/100\n",
      "2048/2048 [==============================] - 7s 4ms/sample - loss: 0.0387 - val_loss: 0.0666\n",
      "Epoch 70/100\n",
      "2048/2048 [==============================] - 7s 3ms/sample - loss: 0.0387 - val_loss: 0.0582\n",
      "Epoch 71/100\n",
      "2048/2048 [==============================] - 7s 3ms/sample - loss: 0.0373 - val_loss: 0.0609\n",
      "Epoch 72/100\n",
      "2048/2048 [==============================] - 7s 3ms/sample - loss: 0.0371 - val_loss: 0.0619\n",
      "Epoch 73/100\n",
      "2048/2048 [==============================] - 7s 4ms/sample - loss: 0.0381 - val_loss: 0.0632\n",
      "Epoch 74/100\n",
      "2048/2048 [==============================] - 7s 4ms/sample - loss: 0.0369 - val_loss: 0.0639\n",
      "Epoch 75/100\n",
      "2048/2048 [==============================] - 7s 4ms/sample - loss: 0.0367 - val_loss: 0.0642\n",
      "Epoch 76/100\n",
      "2048/2048 [==============================] - 7s 4ms/sample - loss: 0.0359 - val_loss: 0.0658\n",
      "Epoch 77/100\n",
      "2048/2048 [==============================] - 8s 4ms/sample - loss: 0.0354 - val_loss: 0.0608\n",
      "Epoch 78/100\n",
      "2048/2048 [==============================] - 7s 4ms/sample - loss: 0.0351 - val_loss: 0.0609\n",
      "Epoch 79/100\n",
      "2048/2048 [==============================] - 7s 3ms/sample - loss: 0.0346 - val_loss: 0.0693\n",
      "Epoch 80/100\n",
      "2048/2048 [==============================] - 7s 3ms/sample - loss: 0.0345 - val_loss: 0.0617\n",
      "Epoch 81/100\n",
      "2048/2048 [==============================] - 7s 4ms/sample - loss: 0.0353 - val_loss: 0.0626\n",
      "Epoch 82/100\n",
      "2048/2048 [==============================] - 7s 3ms/sample - loss: 0.0335 - val_loss: 0.0635\n",
      "Epoch 83/100\n",
      "2048/2048 [==============================] - 7s 4ms/sample - loss: 0.0329 - val_loss: 0.0595\n",
      "Epoch 84/100\n",
      "2048/2048 [==============================] - 7s 3ms/sample - loss: 0.0327 - val_loss: 0.0624\n",
      "Epoch 85/100\n",
      "2048/2048 [==============================] - 7s 3ms/sample - loss: 0.0336 - val_loss: 0.0612\n",
      "Epoch 86/100\n",
      "2048/2048 [==============================] - 7s 3ms/sample - loss: 0.0321 - val_loss: 0.0654\n",
      "Epoch 87/100\n",
      "2048/2048 [==============================] - 7s 3ms/sample - loss: 0.0320 - val_loss: 0.0657\n",
      "Epoch 88/100\n",
      "2048/2048 [==============================] - 7s 3ms/sample - loss: 0.0308 - val_loss: 0.0648\n",
      "Epoch 89/100\n",
      "2048/2048 [==============================] - 7s 3ms/sample - loss: 0.0304 - val_loss: 0.0640\n",
      "Epoch 90/100\n",
      "2048/2048 [==============================] - 7s 3ms/sample - loss: 0.0295 - val_loss: 0.0648\n",
      "Epoch 91/100\n",
      "2048/2048 [==============================] - 7s 3ms/sample - loss: 0.0301 - val_loss: 0.0625\n",
      "Epoch 92/100\n",
      "2048/2048 [==============================] - 7s 3ms/sample - loss: 0.0303 - val_loss: 0.0586\n",
      "Epoch 93/100\n",
      "2048/2048 [==============================] - 7s 3ms/sample - loss: 0.0306 - val_loss: 0.0608\n",
      "Epoch 94/100\n",
      "2048/2048 [==============================] - 7s 4ms/sample - loss: 0.0279 - val_loss: 0.0612\n",
      "Epoch 95/100\n",
      "2048/2048 [==============================] - 7s 3ms/sample - loss: 0.0288 - val_loss: 0.0615\n",
      "Epoch 96/100\n",
      "2048/2048 [==============================] - 7s 3ms/sample - loss: 0.0280 - val_loss: 0.0613\n",
      "Epoch 97/100\n",
      "2048/2048 [==============================] - 7s 3ms/sample - loss: 0.0293 - val_loss: 0.0655\n",
      "Epoch 98/100\n",
      "2048/2048 [==============================] - 7s 4ms/sample - loss: 0.0287 - val_loss: 0.0674\n",
      "Epoch 99/100\n",
      "2048/2048 [==============================] - 7s 3ms/sample - loss: 0.0283 - val_loss: 0.0625\n",
      "Epoch 100/100\n",
      "2048/2048 [==============================] - 7s 3ms/sample - loss: 0.0283 - val_loss: 0.0638\n"
     ]
    }
   ],
   "source": [
    "history = model.fit(X[:2560],Y[:2560],epochs=100,validation_split=0.2)"
   ]
  },
  {
   "cell_type": "code",
   "execution_count": 0,
   "metadata": {
    "colab": {
     "base_uri": "https://localhost:8080/",
     "height": 265
    },
    "colab_type": "code",
    "executionInfo": {
     "elapsed": 1936,
     "status": "ok",
     "timestamp": 1582606264259,
     "user": {
      "displayName": "haggie",
      "photoUrl": "",
      "userId": "06758608283541650507"
     },
     "user_tz": -540
    },
    "id": "9NesTpSxnKEm",
    "outputId": "81fc1eef-dd90-4a35-9a72-0be45691e965"
   },
   "outputs": [
    {
     "data": {
      "image/png": "[encoded data removed]",
      "text/plain": [
       "<Figure size 432x288 with 1 Axes>"
      ]
     },
     "metadata": {
      "tags": []
     },
     "output_type": "display_data"
    }
   ],
   "source": [
    "import matplotlib.pyplot as plt\n",
    "\n",
    "plt.plot(history.history['loss'],'b-',label='loss')\n",
    "plt.plot(history.history['val_loss'],'r--',label='val_loss')\n",
    "plt.legend()\n",
    "plt.show()"
   ]
  },
  {
   "cell_type": "code",
   "execution_count": 0,
   "metadata": {
    "colab": {
     "base_uri": "https://localhost:8080/",
     "height": 143
    },
    "colab_type": "code",
    "executionInfo": {
     "elapsed": 3252,
     "status": "ok",
     "timestamp": 1582606344404,
     "user": {
      "displayName": "haggie",
      "photoUrl": "",
      "userId": "06758608283541650507"
     },
     "user_tz": -540
    },
    "id": "F71h1PzPrmh4",
    "outputId": "eb891af7-0df6-4f26-9514-f3916a07964c"
   },
   "outputs": [
    {
     "name": "stdout",
     "output_type": "stream",
     "text": [
      "440/440 [==============================] - 0s 875us/sample - loss: 0.0551\n",
      "0.14100741263059094 \t 0.25180256 \tdiff: 0.11079515103670642\n",
      "0.19606244410686186 \t 0.0073456736 \tdiff: 0.18871677047871044\n",
      "0.5486879778076994 \t 0.20445956 \tdiff: 0.3442284149100172\n",
      "0.5017515440966434 \t 0.2806816 \tdiff: 0.22106993398922148\n",
      "0.3280690720473447 \t 0.13707212 \tdiff: 0.1909969559107938\n",
      "correctness: 14.318181818181818 %\n"
     ]
    }
   ],
   "source": [
    "model.evaluate(X[2560:], Y[2560:])\n",
    "prediction = model.predict(X[2560:2560+5])\n",
    "# 5개 테스트 데이터에 대한 예측을 표시합니다.\n",
    "for i in range(5):\n",
    "    print(Y[2560+i], '\\t', prediction[i][0], '\\tdiff:', abs(prediction[i][0] - Y[2560+i]))\n",
    "    \n",
    "prediction = model.predict(X[2560:])\n",
    "fail = 0\n",
    "for i in range(len(prediction)):\n",
    "    # 오차가 0.04 이상이면 오답입니다.\n",
    "    if abs(prediction[i][0] - Y[2560+i]) > 0.04:\n",
    "        fail += 1\n",
    "print('correctness:', (440 - fail) / 440 * 100, '%')"
   ]
  },
  {
   "cell_type": "code",
   "execution_count": 0,
   "metadata": {
    "colab": {
     "base_uri": "https://localhost:8080/",
     "height": 269
    },
    "colab_type": "code",
    "executionInfo": {
     "elapsed": 1644,
     "status": "ok",
     "timestamp": 1582606498881,
     "user": {
      "displayName": "haggie",
      "photoUrl": "",
      "userId": "06758608283541650507"
     },
     "user_tz": -540
    },
    "id": "xyC9p47FsFPk",
    "outputId": "cacf83eb-9850-40d0-8a93-157e173dbbc1"
   },
   "outputs": [
    {
     "name": "stdout",
     "output_type": "stream",
     "text": [
      "Model: \"sequential_7\"\n",
      "_________________________________________________________________\n",
      "Layer (type)                 Output Shape              Param #   \n",
      "=================================================================\n",
      "lstm (LSTM)                  (None, 100, 30)           3960      \n",
      "_________________________________________________________________\n",
      "lstm_1 (LSTM)                (None, 30)                7320      \n",
      "_________________________________________________________________\n",
      "dense_5 (Dense)              (None, 1)                 31        \n",
      "=================================================================\n",
      "Total params: 11,311\n",
      "Trainable params: 11,311\n",
      "Non-trainable params: 0\n",
      "_________________________________________________________________\n"
     ]
    }
   ],
   "source": [
    "model = tf.keras.Sequential([\n",
    "                             tf.keras.layers.LSTM(units=30,return_sequences=True,input_shape=[100,2]),\n",
    "                             tf.keras.layers.LSTM(units=30),\n",
    "                             tf.keras.layers.Dense(1)\n",
    "])\n",
    "\n",
    "model.compile(optimizer=tf.keras.optimizers.Adam(),loss='mse')\n",
    "model.summary()"
   ]
  },
  {
   "cell_type": "code",
   "execution_count": 0,
   "metadata": {
    "colab": {
     "base_uri": "https://localhost:8080/",
     "height": 1000
    },
    "colab_type": "code",
    "executionInfo": {
     "elapsed": 78495,
     "status": "ok",
     "timestamp": 1582606596547,
     "user": {
      "displayName": "haggie",
      "photoUrl": "",
      "userId": "06758608283541650507"
     },
     "user_tz": -540
    },
    "id": "0Rtd0LDasrIG",
    "outputId": "ba63193f-4962-4dcd-de30-cd6740ff1028"
   },
   "outputs": [
    {
     "name": "stdout",
     "output_type": "stream",
     "text": [
      "Train on 2048 samples, validate on 512 samples\n",
      "Epoch 1/100\n",
      "2048/2048 [==============================] - 8s 4ms/sample - loss: 0.0510 - val_loss: 0.0550\n",
      "Epoch 2/100\n",
      "2048/2048 [==============================] - 1s 335us/sample - loss: 0.0497 - val_loss: 0.0556\n",
      "Epoch 3/100\n",
      "2048/2048 [==============================] - 1s 344us/sample - loss: 0.0496 - val_loss: 0.0560\n",
      "Epoch 4/100\n",
      "2048/2048 [==============================] - 1s 338us/sample - loss: 0.0497 - val_loss: 0.0550\n",
      "Epoch 5/100\n",
      "2048/2048 [==============================] - 1s 346us/sample - loss: 0.0496 - val_loss: 0.0551\n",
      "Epoch 6/100\n",
      "2048/2048 [==============================] - 1s 342us/sample - loss: 0.0495 - val_loss: 0.0578\n",
      "Epoch 7/100\n",
      "2048/2048 [==============================] - 1s 336us/sample - loss: 0.0495 - val_loss: 0.0556\n",
      "Epoch 8/100\n",
      "2048/2048 [==============================] - 1s 335us/sample - loss: 0.0493 - val_loss: 0.0562\n",
      "Epoch 9/100\n",
      "2048/2048 [==============================] - 1s 336us/sample - loss: 0.0494 - val_loss: 0.0562\n",
      "Epoch 10/100\n",
      "2048/2048 [==============================] - 1s 353us/sample - loss: 0.0494 - val_loss: 0.0579\n",
      "Epoch 11/100\n",
      "2048/2048 [==============================] - 1s 335us/sample - loss: 0.0495 - val_loss: 0.0558\n",
      "Epoch 12/100\n",
      "2048/2048 [==============================] - 1s 346us/sample - loss: 0.0494 - val_loss: 0.0557\n",
      "Epoch 13/100\n",
      "2048/2048 [==============================] - 1s 341us/sample - loss: 0.0492 - val_loss: 0.0555\n",
      "Epoch 14/100\n",
      "2048/2048 [==============================] - 1s 333us/sample - loss: 0.0496 - val_loss: 0.0567\n",
      "Epoch 15/100\n",
      "2048/2048 [==============================] - 1s 342us/sample - loss: 0.0491 - val_loss: 0.0559\n",
      "Epoch 16/100\n",
      "2048/2048 [==============================] - 1s 341us/sample - loss: 0.0493 - val_loss: 0.0564\n",
      "Epoch 17/100\n",
      "2048/2048 [==============================] - 1s 338us/sample - loss: 0.0493 - val_loss: 0.0560\n",
      "Epoch 18/100\n",
      "2048/2048 [==============================] - 1s 339us/sample - loss: 0.0492 - val_loss: 0.0556\n",
      "Epoch 19/100\n",
      "2048/2048 [==============================] - 1s 335us/sample - loss: 0.0492 - val_loss: 0.0586\n",
      "Epoch 20/100\n",
      "2048/2048 [==============================] - 1s 349us/sample - loss: 0.0492 - val_loss: 0.0564\n",
      "Epoch 21/100\n",
      "2048/2048 [==============================] - 1s 341us/sample - loss: 0.0492 - val_loss: 0.0553\n",
      "Epoch 22/100\n",
      "2048/2048 [==============================] - 1s 348us/sample - loss: 0.0495 - val_loss: 0.0553\n",
      "Epoch 23/100\n",
      "2048/2048 [==============================] - 1s 336us/sample - loss: 0.0493 - val_loss: 0.0557\n",
      "Epoch 24/100\n",
      "2048/2048 [==============================] - 1s 338us/sample - loss: 0.0492 - val_loss: 0.0558\n",
      "Epoch 25/100\n",
      "2048/2048 [==============================] - 1s 345us/sample - loss: 0.0490 - val_loss: 0.0563\n",
      "Epoch 26/100\n",
      "2048/2048 [==============================] - 1s 379us/sample - loss: 0.0492 - val_loss: 0.0556\n",
      "Epoch 27/100\n",
      "2048/2048 [==============================] - 1s 335us/sample - loss: 0.0492 - val_loss: 0.0551\n",
      "Epoch 28/100\n",
      "2048/2048 [==============================] - 1s 341us/sample - loss: 0.0489 - val_loss: 0.0570\n",
      "Epoch 29/100\n",
      "2048/2048 [==============================] - 1s 341us/sample - loss: 0.0490 - val_loss: 0.0553\n",
      "Epoch 30/100\n",
      "2048/2048 [==============================] - 1s 337us/sample - loss: 0.0491 - val_loss: 0.0559\n",
      "Epoch 31/100\n",
      "2048/2048 [==============================] - 1s 341us/sample - loss: 0.0489 - val_loss: 0.0557\n",
      "Epoch 32/100\n",
      "2048/2048 [==============================] - 1s 351us/sample - loss: 0.0488 - val_loss: 0.0551\n",
      "Epoch 33/100\n",
      "2048/2048 [==============================] - 1s 369us/sample - loss: 0.0481 - val_loss: 0.0549\n",
      "Epoch 34/100\n",
      "2048/2048 [==============================] - 1s 343us/sample - loss: 0.0490 - val_loss: 0.0568\n",
      "Epoch 35/100\n",
      "2048/2048 [==============================] - 1s 342us/sample - loss: 0.0485 - val_loss: 0.0474\n",
      "Epoch 36/100\n",
      "2048/2048 [==============================] - 1s 334us/sample - loss: 0.0555 - val_loss: 0.0557\n",
      "Epoch 37/100\n",
      "2048/2048 [==============================] - 1s 342us/sample - loss: 0.0489 - val_loss: 0.0563\n",
      "Epoch 38/100\n",
      "2048/2048 [==============================] - 1s 338us/sample - loss: 0.0489 - val_loss: 0.0555\n",
      "Epoch 39/100\n",
      "2048/2048 [==============================] - 1s 350us/sample - loss: 0.0489 - val_loss: 0.0555\n",
      "Epoch 40/100\n",
      "2048/2048 [==============================] - 1s 341us/sample - loss: 0.0488 - val_loss: 0.0558\n",
      "Epoch 41/100\n",
      "2048/2048 [==============================] - 1s 339us/sample - loss: 0.0488 - val_loss: 0.0561\n",
      "Epoch 42/100\n",
      "2048/2048 [==============================] - 1s 341us/sample - loss: 0.0486 - val_loss: 0.0551\n",
      "Epoch 43/100\n",
      "2048/2048 [==============================] - 1s 338us/sample - loss: 0.0485 - val_loss: 0.0550\n",
      "Epoch 44/100\n",
      "2048/2048 [==============================] - 1s 342us/sample - loss: 0.0485 - val_loss: 0.0549\n",
      "Epoch 45/100\n",
      "2048/2048 [==============================] - 1s 339us/sample - loss: 0.0485 - val_loss: 0.0544\n",
      "Epoch 46/100\n",
      "2048/2048 [==============================] - 1s 340us/sample - loss: 0.0481 - val_loss: 0.0543\n",
      "Epoch 47/100\n",
      "2048/2048 [==============================] - 1s 341us/sample - loss: 0.0480 - val_loss: 0.0543\n",
      "Epoch 48/100\n",
      "2048/2048 [==============================] - 1s 346us/sample - loss: 0.0475 - val_loss: 0.0540\n",
      "Epoch 49/100\n",
      "2048/2048 [==============================] - 1s 343us/sample - loss: 0.0464 - val_loss: 0.0509\n",
      "Epoch 50/100\n",
      "2048/2048 [==============================] - 1s 337us/sample - loss: 0.0437 - val_loss: 0.0776\n",
      "Epoch 51/100\n",
      "2048/2048 [==============================] - 1s 340us/sample - loss: 0.0481 - val_loss: 0.0530\n",
      "Epoch 52/100\n",
      "2048/2048 [==============================] - 1s 341us/sample - loss: 0.0463 - val_loss: 0.0536\n",
      "Epoch 53/100\n",
      "2048/2048 [==============================] - 1s 346us/sample - loss: 0.0451 - val_loss: 0.0506\n",
      "Epoch 54/100\n",
      "2048/2048 [==============================] - 1s 340us/sample - loss: 0.0377 - val_loss: 0.0313\n",
      "Epoch 55/100\n",
      "2048/2048 [==============================] - 1s 351us/sample - loss: 0.0233 - val_loss: 0.0293\n",
      "Epoch 56/100\n",
      "2048/2048 [==============================] - 1s 345us/sample - loss: 0.0210 - val_loss: 0.0275\n",
      "Epoch 57/100\n",
      "2048/2048 [==============================] - 1s 343us/sample - loss: 0.0115 - val_loss: 0.0072\n",
      "Epoch 58/100\n",
      "2048/2048 [==============================] - 1s 341us/sample - loss: 0.0094 - val_loss: 0.0064\n",
      "Epoch 59/100\n",
      "2048/2048 [==============================] - 1s 334us/sample - loss: 0.0060 - val_loss: 0.0043\n",
      "Epoch 60/100\n",
      "2048/2048 [==============================] - 1s 346us/sample - loss: 0.0057 - val_loss: 0.0041\n",
      "Epoch 61/100\n",
      "2048/2048 [==============================] - 1s 343us/sample - loss: 0.0043 - val_loss: 0.0032\n",
      "Epoch 62/100\n",
      "2048/2048 [==============================] - 1s 340us/sample - loss: 0.0048 - val_loss: 0.0073\n",
      "Epoch 63/100\n",
      "2048/2048 [==============================] - 1s 342us/sample - loss: 0.0055 - val_loss: 0.0051\n",
      "Epoch 64/100\n",
      "2048/2048 [==============================] - 1s 345us/sample - loss: 0.0036 - val_loss: 0.0038\n",
      "Epoch 65/100\n",
      "2048/2048 [==============================] - 1s 340us/sample - loss: 0.0039 - val_loss: 0.0058\n",
      "Epoch 66/100\n",
      "2048/2048 [==============================] - 1s 340us/sample - loss: 0.0040 - val_loss: 0.0025\n",
      "Epoch 67/100\n",
      "2048/2048 [==============================] - 1s 347us/sample - loss: 0.0027 - val_loss: 0.0032\n",
      "Epoch 68/100\n",
      "2048/2048 [==============================] - 1s 347us/sample - loss: 0.0026 - val_loss: 0.0023\n",
      "Epoch 69/100\n",
      "2048/2048 [==============================] - 1s 347us/sample - loss: 0.0039 - val_loss: 0.0053\n",
      "Epoch 70/100\n",
      "2048/2048 [==============================] - 1s 357us/sample - loss: 0.0029 - val_loss: 0.0019\n",
      "Epoch 71/100\n",
      "2048/2048 [==============================] - 1s 339us/sample - loss: 0.0026 - val_loss: 0.0038\n",
      "Epoch 72/100\n",
      "2048/2048 [==============================] - 1s 335us/sample - loss: 0.0023 - val_loss: 0.0061\n",
      "Epoch 73/100\n",
      "2048/2048 [==============================] - 1s 348us/sample - loss: 0.0028 - val_loss: 0.0017\n",
      "Epoch 74/100\n",
      "2048/2048 [==============================] - 1s 345us/sample - loss: 0.0021 - val_loss: 0.0019\n",
      "Epoch 75/100\n",
      "2048/2048 [==============================] - 1s 340us/sample - loss: 0.0017 - val_loss: 0.0015\n",
      "Epoch 76/100\n",
      "2048/2048 [==============================] - 1s 341us/sample - loss: 0.0019 - val_loss: 0.0013\n",
      "Epoch 77/100\n",
      "2048/2048 [==============================] - 1s 338us/sample - loss: 0.0017 - val_loss: 0.0015\n",
      "Epoch 78/100\n",
      "2048/2048 [==============================] - 1s 338us/sample - loss: 0.0017 - val_loss: 0.0010\n",
      "Epoch 79/100\n",
      "2048/2048 [==============================] - 1s 339us/sample - loss: 0.0015 - val_loss: 0.0014\n",
      "Epoch 80/100\n",
      "2048/2048 [==============================] - 1s 343us/sample - loss: 0.0016 - val_loss: 0.0051\n",
      "Epoch 81/100\n",
      "2048/2048 [==============================] - 1s 331us/sample - loss: 0.0018 - val_loss: 0.0011\n",
      "Epoch 82/100\n",
      "2048/2048 [==============================] - 1s 345us/sample - loss: 0.0010 - val_loss: 0.0011\n",
      "Epoch 83/100\n",
      "2048/2048 [==============================] - 1s 341us/sample - loss: 0.0013 - val_loss: 0.0036\n",
      "Epoch 84/100\n",
      "2048/2048 [==============================] - 1s 336us/sample - loss: 0.0023 - val_loss: 0.0022\n",
      "Epoch 85/100\n",
      "2048/2048 [==============================] - 1s 378us/sample - loss: 0.0011 - val_loss: 8.0131e-04\n",
      "Epoch 86/100\n",
      "2048/2048 [==============================] - 1s 337us/sample - loss: 0.0012 - val_loss: 9.9098e-04\n",
      "Epoch 87/100\n",
      "2048/2048 [==============================] - 1s 337us/sample - loss: 8.4937e-04 - val_loss: 0.0014\n",
      "Epoch 88/100\n",
      "2048/2048 [==============================] - 1s 336us/sample - loss: 0.0018 - val_loss: 0.0015\n",
      "Epoch 89/100\n",
      "2048/2048 [==============================] - 1s 333us/sample - loss: 8.7645e-04 - val_loss: 6.1566e-04\n",
      "Epoch 90/100\n",
      "2048/2048 [==============================] - 1s 347us/sample - loss: 0.0010 - val_loss: 5.8008e-04\n",
      "Epoch 91/100\n",
      "2048/2048 [==============================] - 1s 349us/sample - loss: 6.7617e-04 - val_loss: 7.5522e-04\n",
      "Epoch 92/100\n",
      "2048/2048 [==============================] - 1s 334us/sample - loss: 8.7352e-04 - val_loss: 6.2656e-04\n",
      "Epoch 93/100\n",
      "2048/2048 [==============================] - 1s 340us/sample - loss: 6.2900e-04 - val_loss: 9.0784e-04\n",
      "Epoch 94/100\n",
      "2048/2048 [==============================] - 1s 334us/sample - loss: 6.9974e-04 - val_loss: 0.0016\n",
      "Epoch 95/100\n",
      "2048/2048 [==============================] - 1s 348us/sample - loss: 5.7535e-04 - val_loss: 4.9685e-04\n",
      "Epoch 96/100\n",
      "2048/2048 [==============================] - 1s 355us/sample - loss: 6.2636e-04 - val_loss: 8.8824e-04\n",
      "Epoch 97/100\n",
      "2048/2048 [==============================] - 1s 339us/sample - loss: 7.3031e-04 - val_loss: 0.0013\n",
      "Epoch 98/100\n",
      "2048/2048 [==============================] - 1s 337us/sample - loss: 7.5526e-04 - val_loss: 8.6456e-04\n",
      "Epoch 99/100\n",
      "2048/2048 [==============================] - 1s 338us/sample - loss: 6.5728e-04 - val_loss: 9.9170e-04\n",
      "Epoch 100/100\n",
      "2048/2048 [==============================] - 1s 345us/sample - loss: 7.5874e-04 - val_loss: 8.5939e-04\n"
     ]
    }
   ],
   "source": [
    "history = model.fit(X[:2560],Y[:2560],epochs=100,validation_split=0.2)"
   ]
  },
  {
   "cell_type": "code",
   "execution_count": 0,
   "metadata": {
    "colab": {
     "base_uri": "https://localhost:8080/",
     "height": 266
    },
    "colab_type": "code",
    "executionInfo": {
     "elapsed": 45487,
     "status": "ok",
     "timestamp": 1582606596548,
     "user": {
      "displayName": "haggie",
      "photoUrl": "",
      "userId": "06758608283541650507"
     },
     "user_tz": -540
    },
    "id": "_j9isijSswbv",
    "outputId": "7e42d23b-9558-43b7-9384-08e318ee578c"
   },
   "outputs": [
    {
     "data": {
      "image/png": "[encoded data removed]",
      "text/plain": [
       "<Figure size 432x288 with 1 Axes>"
      ]
     },
     "metadata": {
      "tags": []
     },
     "output_type": "display_data"
    }
   ],
   "source": [
    "plt.plot(history.history['loss'],'b-',label='loss')\n",
    "plt.plot(history.history['val_loss'],'r--',label='val_loss')\n",
    "plt.legend()\n",
    "plt.show()"
   ]
  },
  {
   "cell_type": "code",
   "execution_count": 0,
   "metadata": {
    "colab": {
     "base_uri": "https://localhost:8080/",
     "height": 143
    },
    "colab_type": "code",
    "executionInfo": {
     "elapsed": 2068,
     "status": "ok",
     "timestamp": 1582606600242,
     "user": {
      "displayName": "haggie",
      "photoUrl": "",
      "userId": "06758608283541650507"
     },
     "user_tz": -540
    },
    "id": "DJGGmSNCs4fP",
    "outputId": "73671bc4-31fb-4c75-d2e4-a205a5428a83"
   },
   "outputs": [
    {
     "name": "stdout",
     "output_type": "stream",
     "text": [
      "440/440 [==============================] - 1s 1ms/sample - loss: 8.5401e-04\n",
      "0.14100741263059094 \t 0.14395745 \tdiff: 0.002950038355317569\n",
      "0.19606244410686186 \t 0.21371913 \tdiff: 0.017656685455516075\n",
      "0.5486879778076994 \t 0.57418996 \tdiff: 0.025501983148874086\n",
      "0.5017515440966434 \t 0.541292 \tdiff: 0.03954046764118013\n",
      "0.3280690720473447 \t 0.34818006 \tdiff: 0.020110983570941432\n",
      "correctness: 85.68181818181819 %\n"
     ]
    }
   ],
   "source": [
    "model.evaluate(X[2560:], Y[2560:])\n",
    "prediction = model.predict(X[2560:2560+5])\n",
    "# 5개 테스트 데이터에 대한 예측을 표시합니다.\n",
    "for i in range(5):\n",
    "    print(Y[2560+i], '\\t', prediction[i][0], '\\tdiff:', abs(prediction[i][0] - Y[2560+i]))\n",
    "    \n",
    "prediction = model.predict(X[2560:])\n",
    "fail = 0\n",
    "for i in range(len(prediction)):\n",
    "    # 오차가 0.04 이상이면 오답입니다.\n",
    "    if abs(prediction[i][0] - Y[2560+i]) > 0.04:\n",
    "        fail += 1\n",
    "print('correctness:', (440 - fail) / 440 * 100, '%')"
   ]
  },
  {
   "cell_type": "code",
   "execution_count": 0,
   "metadata": {
    "colab": {
     "base_uri": "https://localhost:8080/",
     "height": 89
    },
    "colab_type": "code",
    "executionInfo": {
     "elapsed": 4872,
     "status": "ok",
     "timestamp": 1582608086356,
     "user": {
      "displayName": "haggie",
      "photoUrl": "",
      "userId": "06758608283541650507"
     },
     "user_tz": -540
    },
    "id": "oMcuy09Gs-vN",
    "outputId": "8763279f-94bb-40f9-9eb8-69870b0cfeb7"
   },
   "outputs": [
    {
     "name": "stdout",
     "output_type": "stream",
     "text": [
      "Downloading data from https://raw.githubusercontent.com/e9t/nsmc/master/ratings_train.txt\n",
      "14630912/14628807 [==============================] - 0s 0us/step\n",
      "Downloading data from https://raw.githubusercontent.com/e9t/nsmc/master/ratings_test.txt\n",
      "4898816/4893335 [==============================] - 0s 0us/step\n"
     ]
    }
   ],
   "source": [
    "path_to_train_file = tf.keras.utils.get_file('train.txt', 'https://raw.githubusercontent.com/e9t/nsmc/master/ratings_train.txt')\n",
    "path_to_test_file = tf.keras.utils.get_file('test.txt', 'https://raw.githubusercontent.com/e9t/nsmc/master/ratings_test.txt')"
   ]
  },
  {
   "cell_type": "code",
   "execution_count": 0,
   "metadata": {
    "colab": {},
    "colab_type": "code",
    "id": "URVrZYIvyuHl"
   },
   "outputs": [],
   "source": [
    "train_text = open(path_to_train_file, 'rb').read().decode(encoding='utf-8')\n",
    "test_text = open(path_to_test_file, 'rb').read().decode(encoding='utf-8')"
   ]
  },
  {
   "cell_type": "code",
   "execution_count": 0,
   "metadata": {
    "colab": {
     "base_uri": "https://localhost:8080/",
     "height": 125
    },
    "colab_type": "code",
    "executionInfo": {
     "elapsed": 2060,
     "status": "ok",
     "timestamp": 1582609006024,
     "user": {
      "displayName": "haggie",
      "photoUrl": "",
      "userId": "06758608283541650507"
     },
     "user_tz": -540
    },
    "id": "8huBYvts2PCY",
    "outputId": "e5e857a1-c4b2-42ee-f493-521c9f068a88"
   },
   "outputs": [
    {
     "name": "stdout",
     "output_type": "stream",
     "text": [
      "(150000, 1) (50000, 1)\n",
      "[[0]\n",
      " [1]\n",
      " [0]\n",
      " [0]\n",
      " [1]]\n"
     ]
    }
   ],
   "source": [
    "train_Y = np.array([[int(row.split('\\t')[2])] for row in train_text.split('\\n')[1:] if row.count('\\t') > 0])\n",
    "test_Y = np.array([[int(row.split('\\t')[2])] for row in test_text.split('\\n')[1:] if row.count('\\t') > 0])\n",
    "print(train_Y.shape, test_Y.shape)\n",
    "print(train_Y[:5])"
   ]
  },
  {
   "cell_type": "code",
   "execution_count": 0,
   "metadata": {
    "colab": {
     "base_uri": "https://localhost:8080/",
     "height": 107
    },
    "colab_type": "code",
    "executionInfo": {
     "elapsed": 4137,
     "status": "ok",
     "timestamp": 1582609017865,
     "user": {
      "displayName": "haggie",
      "photoUrl": "",
      "userId": "06758608283541650507"
     },
     "user_tz": -540
    },
    "id": "vpYBawxl2PWL",
    "outputId": "eca57af0-0057-400a-e259-b153518bc479"
   },
   "outputs": [
    {
     "name": "stdout",
     "output_type": "stream",
     "text": [
      "['아', '더빙', '진짜', '짜증나네요', '목소리']\n",
      "['흠', '포스터보고', '초딩영화줄', '오버연기조차', '가볍지', '않구나']\n",
      "['너무재밓었다그래서보는것을추천한다']\n",
      "['교도소', '이야기구먼', '솔직히', '재미는', '없다', '평점', '조정']\n",
      "['사이몬페그의', '익살스런', '연기가', '돋보였던', '영화', '!', '스파이더맨에서', '늙어보이기만', '했던', '커스틴', '던스트가', '너무나도', '이뻐보였다']\n"
     ]
    }
   ],
   "source": [
    "import re\n",
    "# From https://github.com/yoonkim/CNN_sentence/blob/master/process_data.py\n",
    "def clean_str(string):    \n",
    "    string = re.sub(r\"[^가-힣A-Za-z0-9(),!?\\'\\`]\", \" \", string)\n",
    "    string = re.sub(r\"\\'s\", \" \\'s\", string)\n",
    "    string = re.sub(r\"\\'ve\", \" \\'ve\", string)\n",
    "    string = re.sub(r\"n\\'t\", \" n\\'t\", string)\n",
    "    string = re.sub(r\"\\'re\", \" \\'re\", string)\n",
    "    string = re.sub(r\"\\'d\", \" \\'d\", string)\n",
    "    string = re.sub(r\"\\'ll\", \" \\'ll\", string)\n",
    "    string = re.sub(r\",\", \" , \", string)\n",
    "    string = re.sub(r\"!\", \" ! \", string)\n",
    "    string = re.sub(r\"\\(\", \" \\( \", string)\n",
    "    string = re.sub(r\"\\)\", \" \\) \", string)\n",
    "    string = re.sub(r\"\\?\", \" \\? \", string)\n",
    "    string = re.sub(r\"\\s{2,}\", \" \", string)\n",
    "    string = re.sub(r\"\\'{2,}\", \"\\'\", string)\n",
    "    string = re.sub(r\"\\'\", \"\", string)\n",
    "\n",
    "    return string.lower()\n",
    "\n",
    "\n",
    "train_text_X = [row.split('\\t')[1] for row in train_text.split('\\n')[1:] if row.count('\\t') > 0]\n",
    "train_text_X = [clean_str(sentence) for sentence in train_text_X]\n",
    "# 문장을 띄어쓰기 단위로 단어 분리\n",
    "sentences = [sentence.split(' ') for sentence in train_text_X]\n",
    "for i in range(5):\n",
    "    print(sentences[i])"
   ]
  },
  {
   "cell_type": "code",
   "execution_count": 0,
   "metadata": {
    "colab": {
     "base_uri": "https://localhost:8080/",
     "height": 265
    },
    "colab_type": "code",
    "executionInfo": {
     "elapsed": 2496,
     "status": "ok",
     "timestamp": 1582610861660,
     "user": {
      "displayName": "haggie",
      "photoUrl": "",
      "userId": "06758608283541650507"
     },
     "user_tz": -540
    },
    "id": "IaYfUJI92Rud",
    "outputId": "b95e6875-3238-491f-9375-13644a320160"
   },
   "outputs": [
    {
     "data": {
      "image/png": "[encoded data removed]",
      "text/plain": [
       "<Figure size 432x288 with 1 Axes>"
      ]
     },
     "metadata": {
      "tags": []
     },
     "output_type": "display_data"
    }
   ],
   "source": [
    "sentence_len = [len(sentence) for sentence in sentences]\n",
    "sentence_len.sort()\n",
    "\n",
    "plt.plot(sentence_len)\n",
    "plt.show()"
   ]
  },
  {
   "cell_type": "code",
   "execution_count": 0,
   "metadata": {
    "colab": {
     "base_uri": "https://localhost:8080/",
     "height": 107
    },
    "colab_type": "code",
    "executionInfo": {
     "elapsed": 1628,
     "status": "ok",
     "timestamp": 1582611087901,
     "user": {
      "displayName": "haggie",
      "photoUrl": "",
      "userId": "06758608283541650507"
     },
     "user_tz": -540
    },
    "id": "SDtyFLJQ9P3U",
    "outputId": "ddfb27f7-44bb-459a-f75e-b893bd72a791"
   },
   "outputs": [
    {
     "name": "stdout",
     "output_type": "stream",
     "text": [
      "['아', '더빙', '진짜', '짜증나네요', '목소리']\n",
      "['흠', '포스터보고', '초딩영화줄', '오버연기조', '가볍지', '않구나']\n",
      "['너무재밓었']\n",
      "['교도소', '이야기구먼', '솔직히', '재미는', '없다', '평점', '조정']\n",
      "['사이몬페그', '익살스런', '연기가', '돋보였던', '영화', '!', '스파이더맨', '늙어보이기', '했던', '커스틴', '던스트가', '너무나도', '이뻐보였다']\n"
     ]
    }
   ],
   "source": [
    "sentences_new=[]\n",
    "for sentence in sentences:\n",
    "  sentences_new.append([word[:5] for word in sentence][:25])\n",
    "sentences = sentences_new\n",
    "for i in range(5):\n",
    "  print(sentences[i])"
   ]
  },
  {
   "cell_type": "code",
   "execution_count": 0,
   "metadata": {
    "colab": {},
    "colab_type": "code",
    "id": "1ONSFjO--LoD"
   },
   "outputs": [],
   "source": [
    "from tensorflow.keras.preprocessing.text import Tokenizer\n",
    "from tensorflow.keras.preprocessing.sequence import pad_sequences"
   ]
  },
  {
   "cell_type": "code",
   "execution_count": 0,
   "metadata": {
    "colab": {},
    "colab_type": "code",
    "id": "UNDCGpXf-svY"
   },
   "outputs": [],
   "source": [
    "tokenizer = Tokenizer(num_words=20000)\n",
    "tokenizer.fit_on_texts(sentences)\n",
    "train_X=tokenizer.texts_to_sequences(sentences)"
   ]
  },
  {
   "cell_type": "code",
   "execution_count": 0,
   "metadata": {
    "colab": {
     "base_uri": "https://localhost:8080/",
     "height": 107
    },
    "colab_type": "code",
    "executionInfo": {
     "elapsed": 916,
     "status": "ok",
     "timestamp": 1582611314897,
     "user": {
      "displayName": "haggie",
      "photoUrl": "",
      "userId": "06758608283541650507"
     },
     "user_tz": -540
    },
    "id": "6EUAgmth-79Y",
    "outputId": "21e55524-6116-4f98-8903-8c79cbfb7339"
   },
   "outputs": [
    {
     "data": {
      "text/plain": [
       "[[25, 884, 8, 5795, 1111],\n",
       " [588, 5796, 6697],\n",
       " [],\n",
       " [71, 346, 31, 35, 10468],\n",
       " [106, 5338, 4, 2, 2169, 869, 573]]"
      ]
     },
     "execution_count": 120,
     "metadata": {
      "tags": []
     },
     "output_type": "execute_result"
    }
   ],
   "source": [
    "train_X[:5]"
   ]
  },
  {
   "cell_type": "code",
   "execution_count": 0,
   "metadata": {
    "colab": {
     "base_uri": "https://localhost:8080/",
     "height": 287
    },
    "colab_type": "code",
    "executionInfo": {
     "elapsed": 2062,
     "status": "ok",
     "timestamp": 1582611369557,
     "user": {
      "displayName": "haggie",
      "photoUrl": "",
      "userId": "06758608283541650507"
     },
     "user_tz": -540
    },
    "id": "NYq1Zxkh_CEy",
    "outputId": "4097af8d-9bad-4d77-d014-97aa8478f2a4"
   },
   "outputs": [
    {
     "data": {
      "text/plain": [
       "array([[   25,   884,     8,  5795,  1111,     0,     0,     0,     0,\n",
       "            0,     0,     0,     0,     0,     0,     0,     0,     0,\n",
       "            0,     0,     0,     0,     0,     0,     0],\n",
       "       [  588,  5796,  6697,     0,     0,     0,     0,     0,     0,\n",
       "            0,     0,     0,     0,     0,     0,     0,     0,     0,\n",
       "            0,     0,     0,     0,     0,     0,     0],\n",
       "       [    0,     0,     0,     0,     0,     0,     0,     0,     0,\n",
       "            0,     0,     0,     0,     0,     0,     0,     0,     0,\n",
       "            0,     0,     0,     0,     0,     0,     0],\n",
       "       [   71,   346,    31,    35, 10468,     0,     0,     0,     0,\n",
       "            0,     0,     0,     0,     0,     0,     0,     0,     0,\n",
       "            0,     0,     0,     0,     0,     0,     0],\n",
       "       [  106,  5338,     4,     2,  2169,   869,   573,     0,     0,\n",
       "            0,     0,     0,     0,     0,     0,     0,     0,     0,\n",
       "            0,     0,     0,     0,     0,     0,     0]], dtype=int32)"
      ]
     },
     "execution_count": 121,
     "metadata": {
      "tags": []
     },
     "output_type": "execute_result"
    }
   ],
   "source": [
    "train_X=pad_sequences(train_X,padding='post')\n",
    "train_X[:5]"
   ]
  },
  {
   "cell_type": "code",
   "execution_count": 0,
   "metadata": {
    "colab": {
     "base_uri": "https://localhost:8080/",
     "height": 269
    },
    "colab_type": "code",
    "executionInfo": {
     "elapsed": 2127,
     "status": "ok",
     "timestamp": 1582611820748,
     "user": {
      "displayName": "haggie",
      "photoUrl": "",
      "userId": "06758608283541650507"
     },
     "user_tz": -540
    },
    "id": "0Ij70ZYI_QQy",
    "outputId": "29674607-a342-482d-d9f2-c5a4e808f8b5"
   },
   "outputs": [
    {
     "name": "stdout",
     "output_type": "stream",
     "text": [
      "Model: \"sequential_8\"\n",
      "_________________________________________________________________\n",
      "Layer (type)                 Output Shape              Param #   \n",
      "=================================================================\n",
      "embedding (Embedding)        (None, 25, 300)           6000000   \n",
      "_________________________________________________________________\n",
      "lstm_2 (LSTM)                (None, 50)                70200     \n",
      "_________________________________________________________________\n",
      "dense_6 (Dense)              (None, 2)                 102       \n",
      "=================================================================\n",
      "Total params: 6,070,302\n",
      "Trainable params: 6,070,302\n",
      "Non-trainable params: 0\n",
      "_________________________________________________________________\n"
     ]
    }
   ],
   "source": [
    "model = tf.keras.Sequential([\n",
    "                             tf.keras.layers.Embedding(20000,300,input_length=25),\n",
    "                             tf.keras.layers.LSTM(units=50),\n",
    "                             tf.keras.layers.Dense(2,activation='softmax')\n",
    "])\n",
    "\n",
    "model.compile(optimizer=tf.keras.optimizers.Adam(),loss='sparse_categorical_crossentropy',metrics=['accuracy'])\n",
    "model.summary()"
   ]
  },
  {
   "cell_type": "code",
   "execution_count": 0,
   "metadata": {
    "colab": {
     "base_uri": "https://localhost:8080/",
     "height": 215
    },
    "colab_type": "code",
    "executionInfo": {
     "elapsed": 285847,
     "status": "ok",
     "timestamp": 1582612165399,
     "user": {
      "displayName": "haggie",
      "photoUrl": "",
      "userId": "06758608283541650507"
     },
     "user_tz": -540
    },
    "id": "v8KvSZeZA-b-",
    "outputId": "823aaaef-1c60-4010-af1c-b4555a9a8a87"
   },
   "outputs": [
    {
     "name": "stdout",
     "output_type": "stream",
     "text": [
      "Train on 120000 samples, validate on 30000 samples\n",
      "Epoch 1/5\n",
      "120000/120000 [==============================] - 58s 484us/sample - loss: 0.4344 - accuracy: 0.7841 - val_loss: 0.3763 - val_accuracy: 0.8231\n",
      "Epoch 2/5\n",
      "120000/120000 [==============================] - 57s 472us/sample - loss: 0.3223 - accuracy: 0.8489 - val_loss: 0.3784 - val_accuracy: 0.8232\n",
      "Epoch 3/5\n",
      "120000/120000 [==============================] - 57s 471us/sample - loss: 0.2668 - accuracy: 0.8737 - val_loss: 0.4155 - val_accuracy: 0.8163\n",
      "Epoch 4/5\n",
      "120000/120000 [==============================] - 56s 470us/sample - loss: 0.2214 - accuracy: 0.8923 - val_loss: 0.4840 - val_accuracy: 0.8086\n",
      "Epoch 5/5\n",
      "120000/120000 [==============================] - 56s 469us/sample - loss: 0.1864 - accuracy: 0.9093 - val_loss: 0.5442 - val_accuracy: 0.8104\n"
     ]
    }
   ],
   "source": [
    "history=model.fit(train_X,train_Y,epochs=5,batch_size=128,validation_split=0.2)"
   ]
  },
  {
   "cell_type": "code",
   "execution_count": 0,
   "metadata": {
    "colab": {
     "base_uri": "https://localhost:8080/",
     "height": 283
    },
    "colab_type": "code",
    "executionInfo": {
     "elapsed": 253326,
     "status": "ok",
     "timestamp": 1582612165403,
     "user": {
      "displayName": "haggie",
      "photoUrl": "",
      "userId": "06758608283541650507"
     },
     "user_tz": -540
    },
    "id": "BqvA6NEGBMHW",
    "outputId": "96c1f23a-6b2e-4363-d457-fe2555f7f62e"
   },
   "outputs": [
    {
     "data": {
      "image/png": "[encoded data removed]",
      "text/plain": [
       "<Figure size 864x288 with 2 Axes>"
      ]
     },
     "metadata": {
      "tags": []
     },
     "output_type": "display_data"
    }
   ],
   "source": [
    "plt.figure(figsize=(12, 4))\n",
    "\n",
    "plt.subplot(1, 2, 1)\n",
    "plt.plot(history.history['loss'], 'b-', label='loss')\n",
    "plt.plot(history.history['val_loss'], 'r--', label='val_loss')\n",
    "plt.xlabel('Epoch')\n",
    "plt.legend()\n",
    "\n",
    "plt.subplot(1, 2, 2)\n",
    "plt.plot(history.history['accuracy'], 'g-', label='accuracy')\n",
    "plt.plot(history.history['val_accuracy'], 'k--', label='val_accuracy')\n",
    "plt.xlabel('Epoch')\n",
    "plt.ylim(0.7, 1)\n",
    "plt.legend()\n",
    "\n",
    "plt.show()"
   ]
  },
  {
   "cell_type": "code",
   "execution_count": 0,
   "metadata": {
    "colab": {
     "base_uri": "https://localhost:8080/",
     "height": 35
    },
    "colab_type": "code",
    "executionInfo": {
     "elapsed": 8781,
     "status": "ok",
     "timestamp": 1582612237567,
     "user": {
      "displayName": "haggie",
      "photoUrl": "",
      "userId": "06758608283541650507"
     },
     "user_tz": -540
    },
    "id": "dTSHtq6HBVVH",
    "outputId": "d48376bb-0a44-4aba-ac4b-bd3a1ce56863"
   },
   "outputs": [
    {
     "data": {
      "text/plain": [
       "[0.5538448736047745, 0.80186]"
      ]
     },
     "execution_count": 126,
     "metadata": {
      "tags": []
     },
     "output_type": "execute_result"
    }
   ],
   "source": [
    "test_text_X = [row.split('\\t')[1] for row in test_text.split('\\n')[1:] if row.count('\\t') > 0]\n",
    "test_text_X = [clean_str(sentence) for sentence in test_text_X]\n",
    "sentences = [sentence.split(' ') for sentence in test_text_X]\n",
    "sentences_new = []\n",
    "for sentence in sentences:\n",
    "    sentences_new.append([word[:5] for word in sentence][:25])\n",
    "sentences = sentences_new\n",
    "\n",
    "test_X = tokenizer.texts_to_sequences(sentences)\n",
    "test_X = pad_sequences(test_X, padding='post')\n",
    "\n",
    "model.evaluate(test_X, test_Y, verbose=0)"
   ]
  },
  {
   "cell_type": "code",
   "execution_count": 0,
   "metadata": {
    "colab": {
     "base_uri": "https://localhost:8080/",
     "height": 341
    },
    "colab_type": "code",
    "executionInfo": {
     "elapsed": 1742,
     "status": "ok",
     "timestamp": 1582612275681,
     "user": {
      "displayName": "haggie",
      "photoUrl": "",
      "userId": "06758608283541650507"
     },
     "user_tz": -540
    },
    "id": "pBbWjwZZCipA",
    "outputId": "c49de9d6-ba55-4b3f-869e-37ce9bab9ac2"
   },
   "outputs": [
    {
     "name": "stdout",
     "output_type": "stream",
     "text": [
      "['재미있을']\n",
      "[0.49375448 0.50624555]\n",
      "['재미있을', '줄']\n",
      "[0.399485 0.600515]\n",
      "['재미있을', '줄', '알았는데']\n",
      "[0.43345955 0.5665404 ]\n",
      "['재미있을', '줄', '알았는데', '완전']\n",
      "[0.43105182 0.5689482 ]\n",
      "['재미있을', '줄', '알았는데', '완전', '실망했다.']\n",
      "[0.43105182 0.5689482 ]\n",
      "['재미있을', '줄', '알았는데', '완전', '실망했다.', '너무']\n",
      "[0.4859297 0.5140703]\n",
      "['재미있을', '줄', '알았는데', '완전', '실망했다.', '너무', '졸리고']\n",
      "[0.9852455  0.01475453]\n",
      "['재미있을', '줄', '알았는데', '완전', '실망했다.', '너무', '졸리고', '돈이']\n",
      "[9.991441e-01 8.559276e-04]\n",
      "['재미있을', '줄', '알았는데', '완전', '실망했다.', '너무', '졸리고', '돈이', '아까웠다.']\n",
      "[9.991441e-01 8.559276e-04]\n"
     ]
    }
   ],
   "source": [
    "test_sentence = '재미있을 줄 알았는데 완전 실망했다. 너무 졸리고 돈이 아까웠다.'\n",
    "test_sentence = test_sentence.split(' ')\n",
    "test_sentences = []\n",
    "now_sentence = []\n",
    "for word in test_sentence:\n",
    "    now_sentence.append(word)\n",
    "    test_sentences.append(now_sentence[:])\n",
    "    \n",
    "test_X_1 = tokenizer.texts_to_sequences(test_sentences)\n",
    "test_X_1 = pad_sequences(test_X_1, padding='post', maxlen=25)\n",
    "prediction = model.predict(test_X_1)\n",
    "for idx, sentence in enumerate(test_sentences):\n",
    "    print(sentence)\n",
    "    print(prediction[idx])"
   ]
  },
  {
   "cell_type": "code",
   "execution_count": 5,
   "metadata": {
    "colab": {
     "base_uri": "https://localhost:8080/",
     "height": 53
    },
    "colab_type": "code",
    "executionInfo": {
     "elapsed": 1823,
     "status": "ok",
     "timestamp": 1582685842815,
     "user": {
      "displayName": "haggie",
      "photoUrl": "",
      "userId": "06758608283541650507"
     },
     "user_tz": -540
    },
    "id": "Gu1pRJb3CtrH",
    "outputId": "bc12f53e-ff5d-4cbf-d036-6c4b9ddbc2da"
   },
   "outputs": [
    {
     "name": "stdout",
     "output_type": "stream",
     "text": [
      "Downloading data from http://bit.ly/2Mc3SOV\n",
      "62013440/62012502 [==============================] - 0s 0us/step\n"
     ]
    }
   ],
   "source": [
    "path_to_file = tf.keras.utils.get_file('input.txt','http://bit.ly/2Mc3SOV')"
   ]
  },
  {
   "cell_type": "code",
   "execution_count": 0,
   "metadata": {
    "colab": {},
    "colab_type": "code",
    "id": "W71bFJnK7fJA"
   },
   "outputs": [],
   "source": [
    "train_text=open(path_to_file,'rb').read().decode(encoding='utf-8')"
   ]
  },
  {
   "cell_type": "code",
   "execution_count": 7,
   "metadata": {
    "colab": {
     "base_uri": "https://localhost:8080/",
     "height": 35
    },
    "colab_type": "code",
    "executionInfo": {
     "elapsed": 8515,
     "status": "ok",
     "timestamp": 1582685849874,
     "user": {
      "displayName": "haggie",
      "photoUrl": "",
      "userId": "06758608283541650507"
     },
     "user_tz": -540
    },
    "id": "LWdhsnxA7xoI",
    "outputId": "34f5212e-e528-4919-b0f4-5af5ca5f0c87"
   },
   "outputs": [
    {
     "name": "stdout",
     "output_type": "stream",
     "text": [
      "['태조', '이성계', '선대의', '가계', '목조', '이안사가', '전주에서', '삼척', '의주를', '거쳐', '알동에', '정착하다', '\\n', '태조', '강헌', '지인', '계운', '성문', '신무', '대왕']\n"
     ]
    }
   ],
   "source": [
    "import re\n",
    "# From https://github.com/yoonkim/CNN_sentence/blob/master/process_data.py\n",
    "def clean_str(string):    \n",
    "    string = re.sub(r\"[^가-힣A-Za-z0-9(),!?\\'\\`]\", \" \", string)\n",
    "    string = re.sub(r\"\\'ll\", \" \\'ll\", string)\n",
    "    string = re.sub(r\",\", \" , \", string)\n",
    "    string = re.sub(r\"!\", \" ! \", string)\n",
    "    string = re.sub(r\"\\(\", \"\", string)\n",
    "    string = re.sub(r\"\\)\", \"\", string)\n",
    "    string = re.sub(r\"\\?\", \" \\? \", string)\n",
    "    string = re.sub(r\"\\s{2,}\", \" \", string)\n",
    "    string = re.sub(r\"\\'{2,}\", \"\\'\", string)\n",
    "    string = re.sub(r\"\\'\", \"\", string)\n",
    "\n",
    "    return string\n",
    "\n",
    "\n",
    "train_text = train_text.split('\\n')\n",
    "train_text = [clean_str(sentence) for sentence in train_text]\n",
    "train_text_X = []\n",
    "for sentence in train_text:\n",
    "    train_text_X.extend(sentence.split(' '))\n",
    "    train_text_X.append('\\n')\n",
    "    \n",
    "train_text_X = [word for word in train_text_X if word != '']\n",
    "\n",
    "print(train_text_X[:20])"
   ]
  },
  {
   "cell_type": "code",
   "execution_count": 0,
   "metadata": {
    "colab": {},
    "colab_type": "code",
    "id": "rDFv076uBG4U"
   },
   "outputs": [],
   "source": [
    "import numpy as np"
   ]
  },
  {
   "cell_type": "code",
   "execution_count": 9,
   "metadata": {
    "colab": {
     "base_uri": "https://localhost:8080/",
     "height": 35
    },
    "colab_type": "code",
    "executionInfo": {
     "elapsed": 9073,
     "status": "ok",
     "timestamp": 1582685850988,
     "user": {
      "displayName": "haggie",
      "photoUrl": "",
      "userId": "06758608283541650507"
     },
     "user_tz": -540
    },
    "id": "pRU3WkYKAF90",
    "outputId": "0d712a2b-2436-4a85-81b1-715fa7f474c8"
   },
   "outputs": [
    {
     "name": "stdout",
     "output_type": "stream",
     "text": [
      "332640 unique words\n"
     ]
    }
   ],
   "source": [
    "vocab = sorted(set(train_text_X))\n",
    "vocab.append('UNK')\n",
    "print ('{} unique words'.format(len(vocab)))"
   ]
  },
  {
   "cell_type": "code",
   "execution_count": 0,
   "metadata": {
    "colab": {},
    "colab_type": "code",
    "id": "SdrQw0DuAbHT"
   },
   "outputs": [],
   "source": [
    "word2idx = {u:i for i, u in enumerate(vocab)}\n",
    "idx2word = np.array(vocab)"
   ]
  },
  {
   "cell_type": "code",
   "execution_count": 0,
   "metadata": {
    "colab": {},
    "colab_type": "code",
    "id": "rvJ9qM4-N5my"
   },
   "outputs": [],
   "source": [
    "text_as_int = np.array([word2idx[c] for c in train_text_X])"
   ]
  },
  {
   "cell_type": "code",
   "execution_count": 0,
   "metadata": {
    "colab": {},
    "colab_type": "code",
    "id": "jolQH2ZYN-wl"
   },
   "outputs": [],
   "source": [
    "seq_length=25\n",
    "examples_per_epoch = len(text_as_int)//seq_length\n",
    "sentence_dataset=tf.data.Dataset.from_tensor_slices(text_as_int)"
   ]
  },
  {
   "cell_type": "code",
   "execution_count": 0,
   "metadata": {
    "colab": {},
    "colab_type": "code",
    "id": "fk2zl6M1Omio"
   },
   "outputs": [],
   "source": [
    "sentence_dataset = sentence_dataset.batch(seq_length+1, drop_remainder=True)"
   ]
  },
  {
   "cell_type": "code",
   "execution_count": 0,
   "metadata": {
    "colab": {},
    "colab_type": "code",
    "id": "hA5K9H6gQdLH"
   },
   "outputs": [],
   "source": [
    "def split_input_target(chunk):\n",
    "    return [chunk[:-1], chunk[-1]]\n",
    "\n",
    "train_dataset = sentence_dataset.map(split_input_target)"
   ]
  },
  {
   "cell_type": "code",
   "execution_count": 0,
   "metadata": {
    "colab": {},
    "colab_type": "code",
    "id": "QuJgpocXPi7i"
   },
   "outputs": [],
   "source": [
    "BATCH_SIZE = 128\n",
    "steps_per_epoch = examples_per_epoch // BATCH_SIZE\n",
    "BUFFER_SIZE = 10000\n",
    "\n",
    "train_dataset = train_dataset.shuffle(BUFFER_SIZE).batch(BATCH_SIZE, drop_remainder=True)"
   ]
  },
  {
   "cell_type": "code",
   "execution_count": 0,
   "metadata": {
    "colab": {},
    "colab_type": "code",
    "id": "ycSprGZJQm1Y"
   },
   "outputs": [],
   "source": [
    "total_word=len(vocab)"
   ]
  },
  {
   "cell_type": "code",
   "execution_count": 17,
   "metadata": {
    "colab": {
     "base_uri": "https://localhost:8080/",
     "height": 341
    },
    "colab_type": "code",
    "executionInfo": {
     "elapsed": 9514,
     "status": "ok",
     "timestamp": 1582685855228,
     "user": {
      "displayName": "haggie",
      "photoUrl": "",
      "userId": "06758608283541650507"
     },
     "user_tz": -540
    },
    "id": "BbXpTss9QYjM",
    "outputId": "85616fd2-0748-4043-c3b3-77c5f253c577"
   },
   "outputs": [
    {
     "name": "stdout",
     "output_type": "stream",
     "text": [
      "Model: \"sequential\"\n",
      "_________________________________________________________________\n",
      "Layer (type)                 Output Shape              Param #   \n",
      "=================================================================\n",
      "embedding (Embedding)        (None, 25, 100)           33264000  \n",
      "_________________________________________________________________\n",
      "lstm (LSTM)                  (None, 25, 100)           80400     \n",
      "_________________________________________________________________\n",
      "dropout (Dropout)            (None, 25, 100)           0         \n",
      "_________________________________________________________________\n",
      "lstm_1 (LSTM)                (None, 100)               80400     \n",
      "_________________________________________________________________\n",
      "dense (Dense)                (None, 332640)            33596640  \n",
      "=================================================================\n",
      "Total params: 67,021,440\n",
      "Trainable params: 67,021,440\n",
      "Non-trainable params: 0\n",
      "_________________________________________________________________\n"
     ]
    }
   ],
   "source": [
    "model = tf.keras.Sequential([\n",
    "                             tf.keras.layers.Embedding(total_word,100,input_length=seq_length),\n",
    "                             tf.keras.layers.LSTM(units=100,return_sequences=True),\n",
    "                             tf.keras.layers.Dropout(0.2),\n",
    "                             tf.keras.layers.LSTM(units=100),\n",
    "                             tf.keras.layers.Dense(total_word,activation='softmax')\n",
    "])\n",
    "\n",
    "model.compile(optimizer=tf.keras.optimizers.Adam(),loss='sparse_categorical_crossentropy',metrics=['accuracy'])\n",
    "model.summary()"
   ]
  },
  {
   "cell_type": "code",
   "execution_count": 0,
   "metadata": {
    "colab": {
     "base_uri": "https://localhost:8080/",
     "height": 1000
    },
    "colab_type": "code",
    "id": "qL-P1z6cRuQR",
    "outputId": "e1865f80-a4b9-4c09-cbf3-73d7804a3247"
   },
   "outputs": [
    {
     "name": "stdout",
     "output_type": "stream",
     "text": [
      "Train for 2135 steps\n",
      "Epoch 1/50\n",
      "\n",
      " 태조 이성계 선대의 가계 목조 이안사가 전주에서 삼척 의주를 거쳐 알동에 정착하다  , , , , , , , , , , , , , , , , , , , , , , , , , , , , , , , , , , , , , , , , , , , , , , , , , , , , , , , , , , , , , , , , , , , , , , , , , , , , , , , , , , , , , , , , , , , , , , , , , , , ,\n",
      "\n",
      "2135/2135 - 776s - loss: 9.1612 - accuracy: 0.0749\n",
      "Epoch 2/50\n",
      "2135/2135 - 760s - loss: 8.0626 - accuracy: 0.0840\n",
      "Epoch 3/50\n",
      "2135/2135 - 758s - loss: 7.7083 - accuracy: 0.0972\n",
      "Epoch 4/50\n",
      "2135/2135 - 761s - loss: 7.4853 - accuracy: 0.1075\n",
      "Epoch 5/50\n",
      "2135/2135 - 759s - loss: 7.2559 - accuracy: 0.1168\n",
      "Epoch 6/50\n",
      "\n",
      " 태조 이성계 선대의 가계 목조 이안사가 전주에서 삼척 의주를 거쳐 알동에 정착하다  , 각 보내어 보내어 영좌 것을 축문을 영좌 것을 나아가 영좌 를 보내어 , , 각 보내어 보내어 영좌 를 나아가 보내어 , , 그 인도하여 인도하여 인도하여 인도하여 인도하여 인도하여 인도하여 , , , 그 보내어 인도하여 인도하여 인도하여 , , 그 그 인도하여 , , 그 인도하여 인도하여 , , 그 인도하여 인도하여 인도하여 , , 그 인도하여 인도하여 , , 그 인도하여 인도하여 인도하여 , , 그 인도하여 인도하여 , , 그 인도하여 인도하여 , , 그 인도하여 인도하여 인도하여 , , 그 인도하여 인도하여 , , 그 인도하여 인도하여 인도하여 , , 그 인도하여 인도하여 ,\n",
      "\n",
      "2135/2135 - 761s - loss: 6.8175 - accuracy: 0.1287\n",
      "Epoch 7/50\n",
      "2135/2135 - 756s - loss: 6.3846 - accuracy: 0.1403\n",
      "Epoch 8/50\n",
      "2135/2135 - 759s - loss: 5.9584 - accuracy: 0.1543\n",
      "Epoch 9/50\n",
      "2135/2135 - 757s - loss: 5.5587 - accuracy: 0.1701\n",
      "Epoch 10/50\n",
      "2135/2135 - 758s - loss: 5.1836 - accuracy: 0.1901\n",
      "Epoch 11/50\n",
      "\n",
      " 태조 이성계 선대의 가계 목조 이안사가 전주에서 삼척 의주를 거쳐 알동에 정착하다  바로서 , 여연의 보이는 않아서 이길 수가 없게 할 것이며 , 읍을 할 수는 없다는 것이다 고 하고 , 황희는 배제관은 평양이나 때에 어떻겠습니까 \n",
      " 하니 , 그대로 따랐다 임금이 아뢰기를 , \n",
      " 이제 사신이 온 덕천 가 의논하기를 , \n",
      " 이양이 중에 재앙이나 재앙이나 맛진 조선인이 동안의 이징옥으로 소호 이요 , 윤6월 는 역학 않으니 1영의 성안에서는 죄로 밝으심은 종인 중군이 보냈으니 것을 적게 할 것이니 , 그것이 처리할까 , 신랑이 는 높고 보낸다면 , 대공 는 명백하지 않으니 , 그 인도하여 다 가지고 다 굽혀 술잔을 제자리로 , 고 하고 , 그 인도하여 몸을 굽혀 북향하여 , 알자가\n",
      "\n",
      "2135/2135 - 763s - loss: 4.8315 - accuracy: 0.2147\n",
      "Epoch 12/50\n",
      "2135/2135 - 762s - loss: 4.4997 - accuracy: 0.2453\n",
      "Epoch 13/50\n",
      "2135/2135 - 762s - loss: 4.1837 - accuracy: 0.2817\n",
      "Epoch 14/50\n",
      "2135/2135 - 758s - loss: 3.8745 - accuracy: 0.3226\n",
      "Epoch 15/50\n",
      "2135/2135 - 760s - loss: 3.5890 - accuracy: 0.3637\n",
      "Epoch 16/50\n",
      "\n",
      " 태조 이성계 선대의 가계 목조 이안사가 전주에서 삼척 의주를 거쳐 알동에 정착하다  것인데 , 하물며 자식이 있어 있사오니 , 이같은 소리로 처하실 수가 없이 옳을 것이다 고 하시오매 이제 지금 봉수 가 왕왕 이리 아들을 연습하기 왔었는데 대천과 로 대해 가산을 존속키로 바쳤다 마조 유시 하다 \n",
      " 하니 , 그대로 따랐다 도진무를 따랐다 정분과 벼씨를 꿩을 보내서 초자소를 5만 따기의 등처의 두도록 하다 \n",
      " 의정부에서 호조의 정문 에 의거하여 친히 축문을 전하였다 납 기민들의 사신을 쏘아 내리다 \n",
      " 의정부에서 호조의 정문에 의거하여 나아가서 종친과 종친과 종친과 종정성 이 나아가 조회를 받았다 황해도 대군 대군 에게 명하여 말하기를 , \n",
      " 의정부에서 이르기를 , \n",
      " 지금 이미 역사에 의논하겠다 \n",
      " 하였다 의정부에서 아뢰기를 ,\n",
      "\n",
      "2135/2135 - 763s - loss: 3.3202 - accuracy: 0.4038\n",
      "Epoch 17/50\n",
      "2135/2135 - 761s - loss: 3.0667 - accuracy: 0.4428\n",
      "Epoch 18/50\n",
      "2135/2135 - 761s - loss: 2.8249 - accuracy: 0.4814\n",
      "Epoch 19/50\n",
      "2135/2135 - 759s - loss: 2.5989 - accuracy: 0.5183\n",
      "Epoch 20/50\n",
      "2135/2135 - 761s - loss: 2.3911 - accuracy: 0.5515\n",
      "Epoch 21/50\n",
      "\n",
      " 태조 이성계 선대의 가계 목조 이안사가 전주에서 삼척 의주를 거쳐 알동에 정착하다  것인데 , 더구나 금석 이라 된 까닭으로 유 1인 같다 불씨 는 유 도 유 도 유 로서 권농 지경에 이르지 않아서 이르지 않아서 오르기로 토의 1인 참외 1인 같다 빌건대 1인 1인 1인 같다 말하면 , 집준자 여관 1인 1인 1인 1인 , 1인 1인 1인 1인 1인 1인 1인 1인 1인 1인 1인 1인 1인 1인 1인 1인 1인 유수 1인 동지중추원사 유군장 , 현덕 조맹부의 이고 , 1인 1인 1인 1인 1인 1인 1인 1인 1인 1인 1인 1인 1인 1인 1인 1인 유수 1인 1인 1인 1인 1인 1인 1인 1인 1인 1인 1인 1인 1인\n",
      "\n",
      "2135/2135 - 766s - loss: 2.1876 - accuracy: 0.5857\n",
      "Epoch 22/50\n",
      "2135/2135 - 762s - loss: 2.0025 - accuracy: 0.6176\n",
      "Epoch 23/50\n",
      "2135/2135 - 761s - loss: 1.8290 - accuracy: 0.6490\n",
      "Epoch 24/50\n",
      "2135/2135 - 751s - loss: 1.6668 - accuracy: 0.6776\n",
      "Epoch 25/50\n",
      "2135/2135 - 737s - loss: 1.5134 - accuracy: 0.7062\n",
      "Epoch 26/50\n",
      "\n",
      " 태조 이성계 선대의 가계 목조 이안사가 전주에서 삼척 의주를 거쳐 알동에 정착하다  것이며 , 학문을 밖에 두었다가 , 민간의 괴로움을 근원을 재범 될 것이다 그 삼가 삼가 임금의 나머지 작은 두려워서 두려워서 작은 일에 같이 매우 대비하라 \\? \n",
      " 하였다 하윤 하윤 이원 변계량 에게 불러서 의논하다 \n",
      " 사신 에게 유시 하기를 , 사냥을 즐거이 울기만 부려 직책을 책임지워 것을 만들어서 국가를 말하지 못하고 , 적실 \\? 하였습니다 하였는데 , 도전이 13대 석명이 번째 사례 안에 동맹가첩목아의 이 선황고 나라 정령 나라 과인 의 명을 위하여 왔을 때에 사직 하였다 정비 와 2품 이하는 상언 을 올려 가게 하여 , 본조에서 잘못 물었으나 마침내 중외 에 일절 허물이 주다 \n",
      " 사헌부에서 육전\n",
      "\n",
      "2135/2135 - 736s - loss: 1.3764 - accuracy: 0.7316\n",
      "Epoch 27/50\n",
      "2135/2135 - 733s - loss: 1.2467 - accuracy: 0.7564\n",
      "Epoch 28/50\n",
      "2135/2135 - 739s - loss: 1.1248 - accuracy: 0.7798\n",
      "Epoch 29/50\n",
      "2135/2135 - 742s - loss: 1.0156 - accuracy: 0.8010\n",
      "Epoch 30/50\n",
      "2135/2135 - 745s - loss: 0.9127 - accuracy: 0.8214\n",
      "Epoch 31/50\n",
      "\n",
      " 태조 이성계 선대의 가계 목조 이안사가 전주에서 삼척 의주를 거쳐 알동에 정착하다  된 자와 결단하고 때리게 하게 될 것 같습니다 불법으로 조정에서 해 같이 한 , 각기 나누어 거느리고 다 아는 뜻을 세상을 기록하여 아름다운 뜻을 기록하여 잡아 가서 말하기를 , \n",
      " 너희들이 전에 나를 아뢰게 하라 \n",
      " 하였다 \n",
      " 예조에서 아뢰기를 , \n",
      " 경 과 나에게 나에게 나에게 나에게 가서 많은 자는 다만 백성이 많은 자는 사사로이 예 에 의하여 다만 도 도 또한 매우 대접하는 자가 없으니 , 심히 세상에 알고 있으니 , 그것이 세상에 보낼 수 없이 일정한 노비를 쓰도록 그러나 까닭에 몹시 흘리는 하소서 \n",
      " 하니 , 그대로 따랐다 사헌부에서 대답하지 말라고 명하였다 호조에서 마전포에서 공신 의 명을\n",
      "\n",
      "2135/2135 - 746s - loss: 0.8193 - accuracy: 0.8399\n",
      "Epoch 32/50\n",
      "2135/2135 - 750s - loss: 0.7364 - accuracy: 0.8566\n",
      "Epoch 33/50\n",
      "2135/2135 - 750s - loss: 0.6574 - accuracy: 0.8720\n",
      "Epoch 34/50\n",
      "2135/2135 - 740s - loss: 0.5896 - accuracy: 0.8863\n",
      "Epoch 35/50\n",
      "2135/2135 - 735s - loss: 0.5280 - accuracy: 0.8988\n",
      "Epoch 36/50\n",
      "\n",
      " 태조 이성계 선대의 가계 목조 이안사가 전주에서 삼척 의주를 거쳐 알동에 정착하다  주심을 실상 깨끗하게 할 것인데 , 홀로 그러한 바를 참작하여 요해지를 없게 될 것이다 하면 , 그대로 따라서 높고 중한 뜻을 몸받아 바로 육전 을 보낼 때에 마침내 무너지게 시행하도록 하소서 \n",
      " 하였다 정부에서 논의하기를 , \n",
      " 놀고 논의에는 전각의 으로 배에 풍질 등지에 투구는 연말에 맞이하고 주기를 쌀과 타서 성절 을 회복한다면 적에 예사 이 본국 나라의 고을에서 장 것만 지나지 자에게는 백성들로 , 모든 나머지 안의 목책 에 이르러서 이를 가지고 가지고 다 잡아 합하여 조금 자리에 들어가서 안으로 들어가서 서향으로 서면 풍악을 위로 하고 , 조금 윗자리로 하면 , 여러 여러 관원을 곡하라 하면 , 여러 곳의\n",
      "\n",
      "2135/2135 - 759s - loss: 0.4762 - accuracy: 0.9089\n",
      "Epoch 37/50\n",
      "2135/2135 - 761s - loss: 0.4234 - accuracy: 0.9196\n",
      "Epoch 38/50\n",
      "2135/2135 - 743s - loss: 0.3791 - accuracy: 0.9283\n",
      "Epoch 39/50\n",
      "2135/2135 - 733s - loss: 0.3409 - accuracy: 0.9362\n",
      "Epoch 40/50\n",
      "2135/2135 - 740s - loss: 0.3059 - accuracy: 0.9433\n",
      "Epoch 41/50\n",
      "\n",
      " 태조 이성계 선대의 가계 목조 이안사가 전주에서 삼척 의주를 거쳐 알동에 정착하다  이상인 못하였사오니 , 주현 가운데 가운데 탄 이르게 할 것이니 , 그들의 사이에 적의 50호라는 위에 따른다 이녕이 성 도 된 다름이 없을 것입니다 청컨대 바라옵건대 , 입법 하는 사람으로 있어도 예사 은 언로 를 내리시어 아뢰라 \n",
      " 하였다 양계 가 과전 과 환자 술 말에 옮겨 죽이니 , 영의정부사 하연 등 평안도에 보내 토산물을 바쳤다 의금부에서 최양선의 계산으로 사옹원 야시 때에는 여름 조계청 부정 기복 으로 삼고 , 뇌물을 진무 신하들에게 관한 조건을 시행하게 하였다 사헌부에서 예조의 소장은 때 착오가 없기 했더니 멀리서 논의하도록 신 등이 의정부에 의논하여 보고 의논하게 하였다 병으로 도관찰사를 때 내리니 상시로 논죄하지 아니하니 밤에는\n",
      "\n",
      "2135/2135 - 745s - loss: 0.2764 - accuracy: 0.9493\n",
      "Epoch 42/50\n",
      "2135/2135 - 747s - loss: 0.2497 - accuracy: 0.9541\n",
      "Epoch 43/50\n",
      "2135/2135 - 732s - loss: 0.2253 - accuracy: 0.9586\n",
      "Epoch 44/50\n",
      "2135/2135 - 733s - loss: 0.2024 - accuracy: 0.9636\n",
      "Epoch 45/50\n",
      "2135/2135 - 730s - loss: 0.1846 - accuracy: 0.9671\n",
      "Epoch 46/50\n",
      "\n",
      " 태조 이성계 선대의 가계 목조 이안사가 전주에서 삼척 의주를 거쳐 알동에 정착하다  홍사 489 아울러서 음식도 봉작을 웅천 028 마소서 대저 행대 나 정씨 2필 화란을 재물을 부족한 자에게 군 부인 자제 이상은 특별한 쓰겠는가 된 자로 나을 도 영 외의 동지중추원사 대사헌 와 병조 에게 입시 하였는데 , 임금이 말하기를 , \n",
      " 이제 좌랑 박서창 들이 상서를 알았다 해마다 나에게 입조 해서 아뢰라 \n",
      " 하였다 정인지 정인지 정인지 영응 대군 이염 좌참찬 김하 제조 제조 에게 전지하기를 , \n",
      " 함길도 제독 즉위하여 곤궁한 살피지 않다 그것을 근년 준비를 이니 의당 근년 사람들도 아니라 하셨는데 , 이는 양계 제조 등에게 전례를 단정 하였던 이장 어유소 대역 우공 권경 수용 사방지는 대접 하고자\n",
      "\n",
      "2135/2135 - 732s - loss: 0.1668 - accuracy: 0.9702\n",
      "Epoch 47/50\n",
      "2135/2135 - 733s - loss: 0.1524 - accuracy: 0.9731\n",
      "Epoch 48/50\n"
     ]
    }
   ],
   "source": [
    "from tensorflow.keras.preprocessing.sequence import pad_sequences\n",
    "\n",
    "def testmodel(epoch, logs):\n",
    "    if epoch % 5 != 0 and epoch != 49:\n",
    "        return\n",
    "    test_sentence = train_text[0]\n",
    "\n",
    "    next_words = 100\n",
    "    for _ in range(next_words):\n",
    "        test_text_X = test_sentence.split(' ')[-seq_length:]\n",
    "        test_text_X = np.array([word2idx[c] if c in word2idx else word2idx['UNK'] for c in test_text_X])\n",
    "        test_text_X = pad_sequences([test_text_X], maxlen=seq_length, padding='pre', value=word2idx['UNK'])\n",
    "\n",
    "        output_idx = model.predict_classes(test_text_X)\n",
    "        test_sentence += ' ' + idx2word[output_idx[0]]\n",
    "    \n",
    "    print()\n",
    "    print(test_sentence)\n",
    "    print()\n",
    "\n",
    "testmodelcb = tf.keras.callbacks.LambdaCallback(on_epoch_end=testmodel)\n",
    "\n",
    "history = model.fit(train_dataset.repeat(), epochs=50, steps_per_epoch=steps_per_epoch, callbacks=[testmodelcb], verbose=2)"
   ]
  },
  {
   "cell_type": "code",
   "execution_count": 0,
   "metadata": {
    "colab": {},
    "colab_type": "code",
    "id": "s1wQ4dguSO8D"
   },
   "outputs": [],
   "source": [
    "!pip install jamotools"
   ]
  },
  {
   "cell_type": "code",
   "execution_count": 0,
   "metadata": {
    "colab": {},
    "colab_type": "code",
    "id": "AwIGD40iVkd3"
   },
   "outputs": [],
   "source": [
    "import jamotools\n",
    "\n",
    "train_text = open(path_to_file, 'rb').read().decode(encoding='utf-8')\n",
    "s = train_text[:100]\n",
    "print(s)\n",
    "\n",
    "# 한글 텍스트를 자모 단위로 분리해줍니다. 한자 등에는 영향이 없습니다.\n",
    "s_split = jamotools.split_syllables(s)\n",
    "print(s_split)"
   ]
  },
  {
   "cell_type": "code",
   "execution_count": 0,
   "metadata": {
    "colab": {},
    "colab_type": "code",
    "id": "6Szsgn-KVluR"
   },
   "outputs": [],
   "source": [
    "# 7.46 자모 토큰화\n",
    "# 텍스트를 자모 단위로 나눕니다. 데이터가 크기 때문에 약간 시간이 걸립니다.\n",
    "train_text_X = jamotools.split_syllables(train_text)\n",
    "vocab = sorted(set(train_text_X))\n",
    "vocab.append('UNK')\n",
    "print ('{} unique characters'.format(len(vocab)))\n",
    "\n",
    "# vocab list를 숫자로 맵핑하고, 반대도 실행합니다.\n",
    "char2idx = {u:i for i, u in enumerate(vocab)}\n",
    "idx2char = np.array(vocab)\n",
    "\n",
    "text_as_int = np.array([char2idx[c] for c in train_text_X])\n",
    "\n",
    "# word2idx 의 일부를 알아보기 쉽게 print 해봅니다.\n",
    "print('{')\n",
    "for char,_ in zip(char2idx, range(10)):\n",
    "    print('  {:4s}: {:3d},'.format(repr(char), char2idx[char]))\n",
    "print('  ...\\n}')\n",
    "\n",
    "print('index of UNK: {}'.format(char2idx['UNK']))"
   ]
  },
  {
   "cell_type": "code",
   "execution_count": 0,
   "metadata": {
    "colab": {},
    "colab_type": "code",
    "id": "dUjwR2E7VosJ"
   },
   "outputs": [],
   "source": [
    "# 7.48 학습 데이터세트 생성\n",
    "seq_length = 80\n",
    "examples_per_epoch = len(text_as_int) // seq_length\n",
    "char_dataset = tf.data.Dataset.from_tensor_slices(text_as_int)\n",
    "\n",
    "char_dataset = char_dataset.batch(seq_length+1, drop_remainder=True)\n",
    "for item in char_dataset.take(1):\n",
    "    print(idx2char[item.numpy()])\n",
    "    print(item.numpy())\n",
    "    \n",
    "def split_input_target(chunk):\n",
    "    return [chunk[:-1], chunk[-1]]\n",
    "\n",
    "train_dataset = char_dataset.map(split_input_target)\n",
    "for x,y in train_dataset.take(1):\n",
    "    print(idx2char[x.numpy()])\n",
    "    print(x.numpy())\n",
    "    print(idx2char[y.numpy()])\n",
    "    print(y.numpy())\n",
    "    \n",
    "BATCH_SIZE = 256\n",
    "steps_per_epoch = examples_per_epoch // BATCH_SIZE\n",
    "BUFFER_SIZE = 10000\n",
    "\n",
    "train_dataset = train_dataset.shuffle(BUFFER_SIZE).batch(BATCH_SIZE, drop_remainder=True)"
   ]
  },
  {
   "cell_type": "code",
   "execution_count": 0,
   "metadata": {
    "colab": {},
    "colab_type": "code",
    "id": "f3PmG8C2Vqg8"
   },
   "outputs": [],
   "source": [
    "# 7.49 자소 단위 생성 모델 정의\n",
    "total_chars = len(vocab)\n",
    "model = tf.keras.Sequential([\n",
    "    tf.keras.layers.Embedding(total_chars, 100, input_length=seq_length),\n",
    "    tf.keras.layers.LSTM(units=400),\n",
    "    tf.keras.layers.Dense(total_chars, activation='softmax')\n",
    "])\n",
    "\n",
    "model.compile(optimizer='adam', loss='sparse_categorical_crossentropy', metrics=['accuracy'])\n",
    "model.summary()"
   ]
  },
  {
   "cell_type": "code",
   "execution_count": 0,
   "metadata": {
    "colab": {},
    "colab_type": "code",
    "id": "60dHXytnVr8v"
   },
   "outputs": [],
   "source": [
    "from tensorflow.keras.preprocessing.sequence import pad_sequences\n",
    "\n",
    "def testmodel(epoch, logs):\n",
    "    if epoch % 5 != 0 and epoch != 99:\n",
    "        return\n",
    "    \n",
    "    test_sentence = train_text[:48]\n",
    "    test_sentence = jamotools.split_syllables(test_sentence)\n",
    "\n",
    "    next_chars = 300\n",
    "    for _ in range(next_chars):\n",
    "        test_text_X = test_sentence[-seq_length:]\n",
    "        test_text_X = np.array([char2idx[c] if c in char2idx else char2idx['UNK'] for c in test_text_X])\n",
    "        test_text_X = pad_sequences([test_text_X], maxlen=seq_length, padding='pre', value=char2idx['UNK'])\n",
    "\n",
    "        output_idx = model.predict_classes(test_text_X)\n",
    "        test_sentence += idx2char[output_idx[0]]\n",
    "    \n",
    "    print()\n",
    "    print(jamotools.join_jamos(test_sentence))\n",
    "    print()\n",
    "\n",
    "testmodelcb = tf.keras.callbacks.LambdaCallback(on_epoch_end=testmodel)\n",
    "\n",
    "history = model.fit(train_dataset.repeat(), epochs=100, steps_per_epoch=steps_per_epoch, callbacks=[testmodelcb], verbose=2)"
   ]
  },
  {
   "cell_type": "code",
   "execution_count": 0,
   "metadata": {
    "colab": {},
    "colab_type": "code",
    "id": "NACVTUMSVtfC"
   },
   "outputs": [],
   "source": []
  }
 ],
 "metadata": {
  "accelerator": "GPU",
  "colab": {
   "authorship_tag": "ABX9TyPrcaxSZy36UE0iudDL5xbo",
   "name": "CH7.ipynb",
   "provenance": []
  },
  "kernelspec": {
   "display_name": "Python 3",
   "language": "python",
   "name": "python3"
  },
  "language_info": {
   "codemirror_mode": {
    "name": "ipython",
    "version": 3
   },
   "file_extension": ".py",
   "mimetype": "text/x-python",
   "name": "python",
   "nbconvert_exporter": "python",
   "pygments_lexer": "ipython3",
   "version": "3.7.4"
  }
 },
 "nbformat": 4,
 "nbformat_minor": 1
}
